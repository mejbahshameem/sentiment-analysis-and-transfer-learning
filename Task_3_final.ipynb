{
  "nbformat": 4,
  "nbformat_minor": 0,
  "metadata": {
    "accelerator": "GPU",
    "colab": {
      "name": "Task 3-final.ipynb",
      "provenance": [],
      "collapsed_sections": [],
      "include_colab_link": true
    },
    "kernelspec": {
      "display_name": "Python 3",
      "name": "python3"
    }
  },
  "cells": [
    {
      "cell_type": "markdown",
      "metadata": {
        "id": "view-in-github",
        "colab_type": "text"
      },
      "source": [
        "<a href=\"https://colab.research.google.com/github/heshumi/NNTI-WS2021-NLP-Project/blob/main/Task_3_final.ipynb\" target=\"_parent\"><img src=\"https://colab.research.google.com/assets/colab-badge.svg\" alt=\"Open In Colab\"/></a>"
      ]
    },
    {
      "cell_type": "markdown",
      "metadata": {
        "id": "vJoff6KegGK_"
      },
      "source": [
        "## Task 3a) Binary neural sentiment classifier for Hindi dataset using pretrained Hindi word2vec model trained from task 1.\n",
        "\n",
        "**Note:** In short: Just keep/load all the files of the folder 'task3' in your runtime before running the notebook of task3.\n",
        "\n",
        "More detailed: Keep/upload the folowing files from the 'task 3' folder in the runtime before executing the notebook. \n",
        "`hindi_dataset.tsv`, `bengali_hatespeech.csv`, `bengali_hatespeech_sampled.csv`, `stopwords-bn.txt`, `stopwords-en.txt`, `stopwords-hi.txt`, `translated-bg.csv`, `translated-hi.csv`,`Synonym-hi.txt`,`Synonym-bn.txt`,`Word2Vec-hi-aug.model`, `Word2Vec-bg-aug.model`, `task3_utils.py`. Note that,\n",
        "`task3_utils.py` contains all the necessary classes and functions that are required in this task 3 and those are separated as per the general guidlines of the project handout. Also if you want to skip training the sentiment classifier please load the model file cnn_hindi_model.pt, cnn_bengali_bg_model.pt and cnn_hindi_retrained_on_bengali-model.pt. "
      ]
    },
    {
      "cell_type": "markdown",
      "metadata": {
        "id": "Bfjg4aLdCYmo"
      },
      "source": [
        "#### Loading the required libraries  "
      ]
    },
    {
      "cell_type": "code",
      "metadata": {
        "colab": {
          "base_uri": "https://localhost:8080/"
        },
        "id": "LkVnrKWwCWsp",
        "outputId": "f1826810-85e9-4d06-e10c-4b2e7ae4220e"
      },
      "source": [
        "!pip install emot # For emoji conversion\n",
        "!pip install google_trans_new # For back translation"
      ],
      "execution_count": 35,
      "outputs": [
        {
          "output_type": "stream",
          "text": [
            "Requirement already satisfied: emot in /usr/local/lib/python3.7/dist-packages (2.1)\n",
            "Requirement already satisfied: google_trans_new in /usr/local/lib/python3.7/dist-packages (1.1.9)\n"
          ],
          "name": "stdout"
        }
      ]
    },
    {
      "cell_type": "markdown",
      "metadata": {
        "id": "S55mfENxGNOJ"
      },
      "source": [
        "#### Importing the packages"
      ]
    },
    {
      "cell_type": "code",
      "metadata": {
        "id": "Zgc9KSPrcnCH"
      },
      "source": [
        "# Imports \n",
        "import pandas as pd\n",
        "import numpy as np\n",
        "from math import sqrt\n",
        "import random\n",
        "import time\n",
        "import copy\n",
        "import torch.nn as nn\n",
        "import torch                                                                                                                                                                                                                                                                                                                                                                            \n",
        "import torch.optim as optim\n",
        "import torch.nn.functional as F\n",
        "from torch.utils.data import Dataset, DataLoader, TensorDataset\n",
        "import matplotlib.pyplot as plt\n",
        "from sklearn.model_selection import train_test_split\n",
        "from task3_utils import * #separate .py file for functions and classes as instructed"
      ],
      "execution_count": 36,
      "outputs": []
    },
    {
      "cell_type": "markdown",
      "metadata": {
        "id": "8GoTEhb8GUjf"
      },
      "source": [
        "#### Reading Hindi dataset for sentiment classification. Word2vec model for Hindi dataset is already trained in task 1 and will be loaded in a further cell. "
      ]
    },
    {
      "cell_type": "code",
      "metadata": {
        "id": "H5vjly3Dc7rD",
        "colab": {
          "base_uri": "https://localhost:8080/",
          "height": 204
        },
        "outputId": "d7a492f1-7a83-4d31-fdc5-656da43ce722"
      },
      "source": [
        "data_hindi = pd.read_csv('hindi_dataset.tsv', sep='\\t', usecols=['text', 'task_1'])\n",
        "dev_hindi, val_test = train_test_split(data_hindi, test_size = 0.3, random_state = 21)\n",
        "val_hindi, test_hindi = train_test_split(val_test, test_size = 0.5, random_state = 21)\n",
        "\n",
        "dev_hindi.reset_index(drop = True, inplace=True)\n",
        "val_hindi.reset_index(drop = True, inplace=True)\n",
        "test_hindi.reset_index(drop = True, inplace=True)\n",
        "\n",
        "dev_hindi.head()"
      ],
      "execution_count": 37,
      "outputs": [
        {
          "output_type": "execute_result",
          "data": {
            "text/html": [
              "<div>\n",
              "<style scoped>\n",
              "    .dataframe tbody tr th:only-of-type {\n",
              "        vertical-align: middle;\n",
              "    }\n",
              "\n",
              "    .dataframe tbody tr th {\n",
              "        vertical-align: top;\n",
              "    }\n",
              "\n",
              "    .dataframe thead th {\n",
              "        text-align: right;\n",
              "    }\n",
              "</style>\n",
              "<table border=\"1\" class=\"dataframe\">\n",
              "  <thead>\n",
              "    <tr style=\"text-align: right;\">\n",
              "      <th></th>\n",
              "      <th>text</th>\n",
              "      <th>task_1</th>\n",
              "    </tr>\n",
              "  </thead>\n",
              "  <tbody>\n",
              "    <tr>\n",
              "      <th>0</th>\n",
              "      <td>थाला आ गया वापिस , गाँड फाड़ दे थाला</td>\n",
              "      <td>HOF</td>\n",
              "    </tr>\n",
              "    <tr>\n",
              "      <th>1</th>\n",
              "      <td>#MannKiBaat देश और समाज के लिए आईने की तरह है।...</td>\n",
              "      <td>NOT</td>\n",
              "    </tr>\n",
              "    <tr>\n",
              "      <th>2</th>\n",
              "      <td>माननीय श्री @rajnathsingh जी को रक्षा मंत्री ब...</td>\n",
              "      <td>NOT</td>\n",
              "    </tr>\n",
              "    <tr>\n",
              "      <th>3</th>\n",
              "      <td>(2/2)    [Meridies ( Midday), Ante (Before) an...</td>\n",
              "      <td>NOT</td>\n",
              "    </tr>\n",
              "    <tr>\n",
              "      <th>4</th>\n",
              "      <td>जायरा खान ने एक्टिंग छोड़ दी क्योंकि मुसलमान ह...</td>\n",
              "      <td>HOF</td>\n",
              "    </tr>\n",
              "  </tbody>\n",
              "</table>\n",
              "</div>"
            ],
            "text/plain": [
              "                                                text task_1\n",
              "0              थाला आ गया वापिस , गाँड फाड़ दे थाला     HOF\n",
              "1  #MannKiBaat देश और समाज के लिए आईने की तरह है।...    NOT\n",
              "2  माननीय श्री @rajnathsingh जी को रक्षा मंत्री ब...    NOT\n",
              "3  (2/2)    [Meridies ( Midday), Ante (Before) an...    NOT\n",
              "4  जायरा खान ने एक्टिंग छोड़ दी क्योंकि मुसलमान ह...    HOF"
            ]
          },
          "metadata": {
            "tags": []
          },
          "execution_count": 37
        }
      ]
    },
    {
      "cell_type": "markdown",
      "metadata": {
        "id": "gpM_gYAgJ64s"
      },
      "source": [
        "#### Load the hindi dataset augmented by back traslation "
      ]
    },
    {
      "cell_type": "code",
      "metadata": {
        "id": "3ykOdz19J4LR",
        "colab": {
          "base_uri": "https://localhost:8080/"
        },
        "outputId": "616a335a-8319-4c72-f13e-dc79de304b87"
      },
      "source": [
        "df_tr = pd.read_csv('translated-hi.csv', usecols=['text', 'task_1'])\n",
        "\n",
        "# Concat dev with the translated dataset\n",
        "dev_hindi = pd.concat([dev_hindi, df_tr]\n",
        "                    , ignore_index=True)\n",
        "dev_hindi.drop_duplicates(subset =\"text\", \n",
        "                     keep = 'first', inplace = True) \n",
        "\n",
        "print(len(dev_hindi))"
      ],
      "execution_count": 38,
      "outputs": [
        {
          "output_type": "stream",
          "text": [
            "6521\n"
          ],
          "name": "stdout"
        }
      ]
    },
    {
      "cell_type": "markdown",
      "metadata": {
        "id": "pL-KWdcCGrW3"
      },
      "source": [
        "#### Preprocess the dataset. Here we remove the punctuations, stopwords and other non-influential words and symbols like 'http' and '@' from the beginning of a word and make word list candidates from the sentences. "
      ]
    },
    {
      "cell_type": "code",
      "metadata": {
        "id": "VtT7iBt5pSdf"
      },
      "source": [
        "hi = 'stopwords-hi.txt'\n",
        "bg = 'stopwords-bn.txt'\n",
        "en = 'stopwords-en.txt'"
      ],
      "execution_count": 39,
      "outputs": []
    },
    {
      "cell_type": "code",
      "metadata": {
        "colab": {
          "base_uri": "https://localhost:8080/"
        },
        "id": "r4L-rIvUdH8l",
        "outputId": "ba88c3ba-695b-4076-f26b-1ea15085d90b"
      },
      "source": [
        "dev_hindi['text'] = dev_hindi['text'].apply(lambda x: preprocess(x, hi, bg, en))\n",
        "dev_hindi = dev_hindi.dropna()\n",
        "dev_hindi = dev_hindi.reset_index(drop=True)\n",
        "\n",
        "val_hindi['text'] = val_hindi['text'].apply(lambda x: preprocess(x, hi, bg, en))\n",
        "val_hindi = val_hindi.dropna()\n",
        "val_hindi = val_hindi.reset_index(drop=True)\n",
        "\n",
        "test_hindi['text'] = test_hindi['text'].apply(lambda x: preprocess(x, hi, bg, en))\n",
        "test_hindi = test_hindi.dropna()\n",
        "test_hindi = test_hindi.reset_index(drop=True)"
      ],
      "execution_count": 40,
      "outputs": [
        {
          "output_type": "stream",
          "text": [
            "/usr/local/lib/python3.7/dist-packages/ipykernel_launcher.py:5: SettingWithCopyWarning: \n",
            "A value is trying to be set on a copy of a slice from a DataFrame.\n",
            "Try using .loc[row_indexer,col_indexer] = value instead\n",
            "\n",
            "See the caveats in the documentation: https://pandas.pydata.org/pandas-docs/stable/user_guide/indexing.html#returning-a-view-versus-a-copy\n",
            "  \"\"\"\n",
            "/usr/local/lib/python3.7/dist-packages/ipykernel_launcher.py:9: SettingWithCopyWarning: \n",
            "A value is trying to be set on a copy of a slice from a DataFrame.\n",
            "Try using .loc[row_indexer,col_indexer] = value instead\n",
            "\n",
            "See the caveats in the documentation: https://pandas.pydata.org/pandas-docs/stable/user_guide/indexing.html#returning-a-view-versus-a-copy\n",
            "  if __name__ == '__main__':\n"
          ],
          "name": "stderr"
        }
      ]
    },
    {
      "cell_type": "code",
      "metadata": {
        "colab": {
          "base_uri": "https://localhost:8080/"
        },
        "id": "g9KSsgGap5ZE",
        "outputId": "4af677b3-2a96-4b32-e5e8-31bdb76cf6f0"
      },
      "source": [
        "len(dev_hindi)"
      ],
      "execution_count": 41,
      "outputs": [
        {
          "output_type": "execute_result",
          "data": {
            "text/plain": [
              "6514"
            ]
          },
          "metadata": {
            "tags": []
          },
          "execution_count": 41
        }
      ]
    },
    {
      "cell_type": "markdown",
      "metadata": {
        "id": "QQ1LFg7HKpW4"
      },
      "source": [
        "#### Augment the dataset by synonyms replacement"
      ]
    },
    {
      "cell_type": "code",
      "metadata": {
        "colab": {
          "base_uri": "https://localhost:8080/"
        },
        "id": "dHON_6sfKvjg",
        "outputId": "b2004519-ff33-47d7-f7f7-060eaa31f0a1"
      },
      "source": [
        "aug_n = 9 # How many times to augment the dataset\n",
        "aug_w_n = 150 # Number of words to replace\n",
        "\n",
        "np.random.seed(21)\n",
        "for i in range(aug_n): # Augment 6 times\n",
        "\tprint('Augmentation iteration #: {}'.format(i+1))\n",
        "\tdev_hindi = augment_dataset(dev_hindi, aug_w_n, 'Synonym-hi.txt')"
      ],
      "execution_count": 42,
      "outputs": [
        {
          "output_type": "stream",
          "text": [
            "Augmentation iteration #: 1\n",
            "Dev size: 9026\n",
            "Augmentation iteration #: 2\n",
            "Dev size: 12641\n",
            "Augmentation iteration #: 3\n",
            "Dev size: 15118\n",
            "Augmentation iteration #: 4\n",
            "Dev size: 16921\n",
            "Augmentation iteration #: 5\n",
            "Dev size: 18347\n",
            "Augmentation iteration #: 6\n",
            "Dev size: 19541\n",
            "Augmentation iteration #: 7\n",
            "Dev size: 20587\n",
            "Augmentation iteration #: 8\n",
            "Dev size: 21494\n",
            "Augmentation iteration #: 9\n",
            "Dev size: 22295\n"
          ],
          "name": "stdout"
        }
      ]
    },
    {
      "cell_type": "markdown",
      "metadata": {
        "id": "Z7ipo2ZVPhvy"
      },
      "source": [
        "#### Getting the statistics"
      ]
    },
    {
      "cell_type": "code",
      "metadata": {
        "colab": {
          "base_uri": "https://localhost:8080/"
        },
        "id": "0HGN9VYRPkMp",
        "outputId": "43215dfd-5add-48ea-a683-7022bb88072c"
      },
      "source": [
        "full_df = pd.concat([dev_hindi, val_hindi, test_hindi])\n",
        "\n",
        "print('Dataset lenght: {}'.format(len(full_df)))\n",
        "print('Offensive: {}'.format(len(full_df[full_df['task_1'] == 'HOF'])))\n",
        "print('Not offensive: {}'.format(len(full_df[full_df['task_1'] == 'NOT'])))\n",
        "print('Training data: {}'.format(len(dev_hindi)))\n",
        "print('Validation data: {}'.format(len(val_hindi)))\n",
        "print('Test data: {}'.format(len(test_hindi)))\n",
        "\n",
        "del full_df"
      ],
      "execution_count": 43,
      "outputs": [
        {
          "output_type": "stream",
          "text": [
            "Dataset lenght: 23694\n",
            "Offensive: 10910\n",
            "Not offensive: 12784\n",
            "Training data: 22295\n",
            "Validation data: 699\n",
            "Test data: 700\n"
          ],
          "name": "stdout"
        }
      ]
    },
    {
      "cell_type": "markdown",
      "metadata": {
        "id": "7Wu2DZvGH8IH"
      },
      "source": [
        "#### Build the vocabulary avaialable in the dataset"
      ]
    },
    {
      "cell_type": "code",
      "metadata": {
        "colab": {
          "base_uri": "https://localhost:8080/",
          "height": 204
        },
        "id": "Y6M_JdvOxUez",
        "outputId": "e332b863-3ccd-4676-aa96-4be46ded87e8"
      },
      "source": [
        "dev_hindi.head()"
      ],
      "execution_count": 44,
      "outputs": [
        {
          "output_type": "execute_result",
          "data": {
            "text/html": [
              "<div>\n",
              "<style scoped>\n",
              "    .dataframe tbody tr th:only-of-type {\n",
              "        vertical-align: middle;\n",
              "    }\n",
              "\n",
              "    .dataframe tbody tr th {\n",
              "        vertical-align: top;\n",
              "    }\n",
              "\n",
              "    .dataframe thead th {\n",
              "        text-align: right;\n",
              "    }\n",
              "</style>\n",
              "<table border=\"1\" class=\"dataframe\">\n",
              "  <thead>\n",
              "    <tr style=\"text-align: right;\">\n",
              "      <th></th>\n",
              "      <th>text</th>\n",
              "      <th>task_1</th>\n",
              "    </tr>\n",
              "  </thead>\n",
              "  <tbody>\n",
              "    <tr>\n",
              "      <th>0</th>\n",
              "      <td>[थाला, वापिस, गाँड, फाड़, थाला]</td>\n",
              "      <td>HOF</td>\n",
              "    </tr>\n",
              "    <tr>\n",
              "      <th>1</th>\n",
              "      <td>[#mannkibaat, देश, समाज, आईने, हमें, बताता, हा...</td>\n",
              "      <td>NOT</td>\n",
              "    </tr>\n",
              "    <tr>\n",
              "      <th>2</th>\n",
              "      <td>[माननीय, श्री, रक्षा, मंत्री, बनने, हार्दिक, श...</td>\n",
              "      <td>NOT</td>\n",
              "    </tr>\n",
              "    <tr>\n",
              "      <th>3</th>\n",
              "      <td>[2confusion, meridies, middayconfusion, ante, ...</td>\n",
              "      <td>NOT</td>\n",
              "    </tr>\n",
              "    <tr>\n",
              "      <th>4</th>\n",
              "      <td>[जायरा, खान, एक्टिंग, छोड़, क्योंकि, मुसलमान, ...</td>\n",
              "      <td>HOF</td>\n",
              "    </tr>\n",
              "  </tbody>\n",
              "</table>\n",
              "</div>"
            ],
            "text/plain": [
              "                                                text task_1\n",
              "0                    [थाला, वापिस, गाँड, फाड़, थाला]    HOF\n",
              "1  [#mannkibaat, देश, समाज, आईने, हमें, बताता, हा...    NOT\n",
              "2  [माननीय, श्री, रक्षा, मंत्री, बनने, हार्दिक, श...    NOT\n",
              "3  [2confusion, meridies, middayconfusion, ante, ...    NOT\n",
              "4  [जायरा, खान, एक्टिंग, छोड़, क्योंकि, मुसलमान, ...    HOF"
            ]
          },
          "metadata": {
            "tags": []
          },
          "execution_count": 44
        }
      ]
    },
    {
      "cell_type": "code",
      "metadata": {
        "colab": {
          "base_uri": "https://localhost:8080/"
        },
        "id": "NbAl-QjSdMfr",
        "outputId": "3fa2dcf5-64fa-4c9f-ea49-16d84fa44d4c"
      },
      "source": [
        "hindi_V = build_vocab(dev_hindi)\n",
        "summ = sum(hindi_V.values())\n",
        "len(hindi_V)"
      ],
      "execution_count": 45,
      "outputs": [
        {
          "output_type": "execute_result",
          "data": {
            "text/plain": [
              "20519"
            ]
          },
          "metadata": {
            "tags": []
          },
          "execution_count": 45
        }
      ]
    },
    {
      "cell_type": "markdown",
      "metadata": {
        "id": "GkMa5dsEIE_W"
      },
      "source": [
        "#### Developing a dictionary that represents the one hot encoding of the words in the vocabulary"
      ]
    },
    {
      "cell_type": "code",
      "metadata": {
        "id": "6Jz0aynNdO7b"
      },
      "source": [
        "pad = 1\n",
        "onehot_dict_hindi= build_onehot(hindi_V, pad)"
      ],
      "execution_count": 46,
      "outputs": []
    },
    {
      "cell_type": "code",
      "metadata": {
        "id": "QdG_SeN_mkn8",
        "colab": {
          "base_uri": "https://localhost:8080/"
        },
        "outputId": "3d9d5d80-ee39-457a-b3e5-58901197f4ae"
      },
      "source": [
        "# print one hot of padding\n",
        "print(onehot_dict_hindi[' '])"
      ],
      "execution_count": 47,
      "outputs": [
        {
          "output_type": "stream",
          "text": [
            "[0. 0. 0. ... 0. 0. 1.]\n"
          ],
          "name": "stdout"
        }
      ]
    },
    {
      "cell_type": "markdown",
      "metadata": {
        "id": "A_95wHa1IUhe"
      },
      "source": [
        "#### Getting the insigths of the sentences in sense of the number of words in a sentence. "
      ]
    },
    {
      "cell_type": "code",
      "metadata": {
        "id": "HgqbFi99dUqj",
        "colab": {
          "base_uri": "https://localhost:8080/",
          "height": 418
        },
        "outputId": "f96999f5-1846-4eb0-abc8-8baceb065c6b"
      },
      "source": [
        "text_len = [len(x) for x in dev_hindi['text']]\n",
        "pd.Series(text_len).hist()\n",
        "pd.Series(text_len).describe()"
      ],
      "execution_count": 48,
      "outputs": [
        {
          "output_type": "execute_result",
          "data": {
            "text/plain": [
              "count    22295.000000\n",
              "mean        17.538551\n",
              "std          8.490546\n",
              "min          1.000000\n",
              "25%         11.000000\n",
              "50%         17.000000\n",
              "75%         24.000000\n",
              "max         58.000000\n",
              "dtype: float64"
            ]
          },
          "metadata": {
            "tags": []
          },
          "execution_count": 48
        },
        {
          "output_type": "display_data",
          "data": {
            "image/png": "[encoded data removed]",
            "text/plain": [
              "<Figure size 432x288 with 1 Axes>"
            ]
          },
          "metadata": {
            "tags": [],
            "needs_background": "light"
          }
        }
      ]
    },
    {
      "cell_type": "markdown",
      "metadata": {
        "id": "JCdvsYNSxU_I"
      },
      "source": [
        "#### From the Histogram above we see that 75% of the sentences are covered with 23 being the size of the words in sentences. We select 35 as the maximum number of words in a sentence considering factor like outliers."
      ]
    },
    {
      "cell_type": "markdown",
      "metadata": {
        "id": "4Abnnir1JTRX"
      },
      "source": [
        "#### Set the hyperparameters for Sentiment classification of Hindi Dataset"
      ]
    },
    {
      "cell_type": "code",
      "metadata": {
        "id": "LWSCJgQ0yEU3"
      },
      "source": [
        "# Set hyperparameters\n",
        "batch_size = 16\n",
        "min_sen_length=35\n",
        "epochs = 10\n",
        "embedding_size = 300\n",
        "input_size_hi = len(hindi_V) #For embedding \n"
      ],
      "execution_count": 49,
      "outputs": []
    },
    {
      "cell_type": "markdown",
      "metadata": {
        "id": "f80Q7-jpxR2S"
      },
      "source": [
        "#### Then we create a custom Hindi dataset and data loader to train the binary classifier"
      ]
    },
    {
      "cell_type": "markdown",
      "metadata": {
        "id": "6H10YI0HZf5q"
      },
      "source": [
        "#### Define Data loader for Hindi dataset"
      ]
    },
    {
      "cell_type": "code",
      "metadata": {
        "id": "A6c2OYtKdlvK"
      },
      "source": [
        "train_dataset = MyDataset(dev_hindi, min_sen_length, onehot_dict_hindi)\n",
        "val_dataset = MyDataset(val_hindi, min_sen_length, onehot_dict_hindi)\n",
        "test_dataset = MyDataset(test_hindi, min_sen_length, onehot_dict_hindi)"
      ],
      "execution_count": 53,
      "outputs": []
    },
    {
      "cell_type": "code",
      "metadata": {
        "id": "4Oq2weWBdmJa",
        "colab": {
          "base_uri": "https://localhost:8080/"
        },
        "outputId": "12967303-66bd-4686-81f9-46769907381d"
      },
      "source": [
        "trainloader_hindi = DataLoader(train_dataset, batch_size= batch_size, shuffle=True)\n",
        "valloader_hindi = DataLoader(val_dataset, batch_size= batch_size, shuffle=True)\n",
        "testloader_hindi = DataLoader(test_dataset, batch_size= batch_size, shuffle=False)\n",
        "\n",
        "i1, l1 = next(iter(valloader_hindi))\n",
        "print(i1.shape)"
      ],
      "execution_count": 54,
      "outputs": [
        {
          "output_type": "stream",
          "text": [
            "torch.Size([16, 35, 20520])\n"
          ],
          "name": "stdout"
        }
      ]
    },
    {
      "cell_type": "markdown",
      "metadata": {
        "id": "hOJNK2r0dzG5"
      },
      "source": [
        "#### Create same Word2Vec model architecture as defined in task 1. We are not gonna train the Word2Vec model again rather will load the Hindi Word2Vec model as instructed in the next cell. "
      ]
    },
    {
      "cell_type": "code",
      "metadata": {
        "id": "RtawnFPqcX6h"
      },
      "source": [
        "word2vec_model = Word2Vec(input_size_hi, embedding_size)  "
      ],
      "execution_count": 55,
      "outputs": []
    },
    {
      "cell_type": "markdown",
      "metadata": {
        "id": "Rvx_vnBaMZGO"
      },
      "source": [
        "#### Load the pretrained word2vec model. Also, add a new column to the first hidden layer for allwoing weights of padding. (Please make sure the pretrained model from task 1 'word2vec_model' is avaialable in the runtime)"
      ]
    },
    {
      "cell_type": "code",
      "metadata": {
        "id": "mIFW0QHX4Tiw"
      },
      "source": [
        "# word2vec_model.cuda()\n",
        "word2vec_model.load_state_dict(torch.load('/content/Word2Vec-hi-aug.model'))\n",
        "word2vec_model.cuda()\n",
        "word2vec_model.eval()\n",
        "# Add a column to the first hidden layer matrix of the word2vec model for the padding embedding.\n",
        "embeddings = torch.cat((word2vec_model.fc1.weight.detach(), torch.zeros(embedding_size).unsqueeze(1).cuda()), dim = 1) # init the padding embedding by zeros\n",
        "biases = word2vec_model.fc1.bias.detach()"
      ],
      "execution_count": 56,
      "outputs": []
    },
    {
      "cell_type": "markdown",
      "metadata": {
        "id": "T1LXnDp4NCIN"
      },
      "source": [
        "#### Set more hyperparameters to train binary sentiment classifier"
      ]
    },
    {
      "cell_type": "code",
      "metadata": {
        "id": "aEzMu-N_g6i2"
      },
      "source": [
        "n_filters = 35\n",
        "filter_sizes = [2, 3, 5]\n",
        "output_dim = 1\n",
        "dropout = 0.5\n",
        "N_EPOCHS = 10"
      ],
      "execution_count": 57,
      "outputs": []
    },
    {
      "cell_type": "markdown",
      "metadata": {
        "id": "w0ilEqsBQVvH"
      },
      "source": [
        "#### Convolution based model architecture for Hindi sentiment classification"
      ]
    },
    {
      "cell_type": "markdown",
      "metadata": {
        "id": "g6IrwXroSpjF"
      },
      "source": [
        "#### Create CNN model instance by importing CNN_HINDI defined in task2_utils file."
      ]
    },
    {
      "cell_type": "code",
      "metadata": {
        "id": "5peQSsd0S4HE",
        "colab": {
          "base_uri": "https://localhost:8080/"
        },
        "outputId": "8cb1cf19-d506-49ce-cf18-1adfcffdc452"
      },
      "source": [
        "cnn = CNN_HINDI(input_size_hi, embedding_size, n_filters, filter_sizes, output_dim, dropout)\n",
        "\n",
        "cnn.double()\n",
        "cnn.cuda()"
      ],
      "execution_count": 58,
      "outputs": [
        {
          "output_type": "execute_result",
          "data": {
            "text/plain": [
              "CNN_HINDI(\n",
              "  (embedding): Linear(in_features=20520, out_features=300, bias=True)\n",
              "  (conv_0): Conv2d(1, 35, kernel_size=(2, 300), stride=(1, 1))\n",
              "  (conv_1): Conv2d(1, 35, kernel_size=(3, 300), stride=(1, 1))\n",
              "  (conv_2): Conv2d(1, 35, kernel_size=(5, 300), stride=(1, 1))\n",
              "  (fc): Linear(in_features=105, out_features=1, bias=True)\n",
              "  (dropout): Dropout(p=0.5, inplace=False)\n",
              ")"
            ]
          },
          "metadata": {
            "tags": []
          },
          "execution_count": 58
        }
      ]
    },
    {
      "cell_type": "markdown",
      "metadata": {
        "id": "2ZjVqRcvSt_u"
      },
      "source": [
        "#### Copy the pre-trained embeddings weights and biases as the Hindi CNN model's embedding layer"
      ]
    },
    {
      "cell_type": "code",
      "metadata": {
        "id": "qMpcuZGldJwT",
        "colab": {
          "base_uri": "https://localhost:8080/"
        },
        "outputId": "6b94e867-04fc-4983-8555-c76f113764e2"
      },
      "source": [
        "cnn.embedding.bias.data.copy_(biases)\n",
        "cnn.embedding.weight.data.copy_(embeddings)"
      ],
      "execution_count": 59,
      "outputs": [
        {
          "output_type": "execute_result",
          "data": {
            "text/plain": [
              "tensor([[ 0.2999,  0.2709,  0.5674,  ...,  0.3064,  0.8147,  0.0000],\n",
              "        [ 0.9373,  0.3905,  0.2313,  ...,  0.8536,  0.6029,  0.0000],\n",
              "        [ 0.2789,  0.5106,  0.4444,  ...,  0.2224,  0.2421,  0.0000],\n",
              "        ...,\n",
              "        [-0.1277, -0.3497, -0.6975,  ...,  0.4914, -0.0584,  0.0000],\n",
              "        [ 0.1116,  1.2497,  0.1835,  ...,  0.9383,  0.9304,  0.0000],\n",
              "        [ 0.7151,  0.4270,  0.1555,  ...,  0.5527,  0.0665,  0.0000]],\n",
              "       device='cuda:0', dtype=torch.float64)"
            ]
          },
          "metadata": {
            "tags": []
          },
          "execution_count": 59
        }
      ]
    },
    {
      "cell_type": "markdown",
      "metadata": {
        "id": "g62JLXxITEbN"
      },
      "source": [
        "#### Define optimizer and criterion for sentiment classification training"
      ]
    },
    {
      "cell_type": "code",
      "metadata": {
        "id": "EaxF-NwYnEHR"
      },
      "source": [
        "optimizer = optim.Adam(cnn.parameters())\n",
        "\n",
        "criterion = nn.BCEWithLogitsLoss()"
      ],
      "execution_count": 60,
      "outputs": []
    },
    {
      "cell_type": "markdown",
      "metadata": {
        "id": "ukQX0dynUjn2"
      },
      "source": [
        "#### Training the binary sentiment classification model"
      ]
    },
    {
      "cell_type": "code",
      "metadata": {
        "id": "1ufCqWVFyp5b"
      },
      "source": [
        "# Keep 'train_models = False' if you don't want to train the models, but want to load them\n",
        "train_models = False"
      ],
      "execution_count": 62,
      "outputs": []
    },
    {
      "cell_type": "code",
      "metadata": {
        "id": "ZCKBNczrthZs"
      },
      "source": [
        "if train_models:\n",
        "  # Keeping loss and accuracy history of epochs for visualiztion\n",
        "  train_loss_history = []\n",
        "  train_acc_history = []\n",
        "  val_loss_history = []\n",
        "  val_acc_history = []\n",
        "\n",
        "  # Counter for Early stopping. Stops if no better loss for validation is achieved in 4 consecutive epochs.\n",
        "  stop_criterion = 0\n",
        "  best_valid_loss = float('inf') #Initially sets to infinity\n",
        "\n",
        "  for epoch in range(N_EPOCHS):\n",
        "      #start time of the epoch\n",
        "      start_time = time.time()\n",
        "      \n",
        "      train_loss, train_acc = train_cnn(cnn, trainloader_hindi, optimizer, criterion)\n",
        "      valid_loss, valid_acc = evaluate_cnn(cnn, valloader_hindi, criterion)\n",
        "      train_loss_history.append(train_loss)\n",
        "      train_acc_history.append(train_acc)\n",
        "      val_loss_history.append(valid_loss)\n",
        "      val_acc_history.append(valid_acc)\n",
        "\n",
        "      #End time\n",
        "      end_time = time.time()\n",
        "      # calculate elapsed time in mins and seconds\n",
        "      required_time = end_time - start_time\n",
        "      mins = int(required_time / 60)\n",
        "      secs = int(required_time - (mins * 60))\n",
        "      \n",
        "      stop_criterion += 1\n",
        "\n",
        "      #Saving the best model\n",
        "      if valid_loss < best_valid_loss:\n",
        "          best_valid_loss = valid_loss\n",
        "          torch.save(cnn.state_dict(), 'cnn_hindi_model.pt')\n",
        "          stop_criterion = 0\n",
        "          best_model_hindi = copy.deepcopy(cnn)\n",
        "      \n",
        "      print(f'Epoch: {epoch+1:02} | Epoch Time: {mins}m {secs}s')\n",
        "      print(f'\\tTrain Loss: {train_loss:.3f} | Train Acc: {train_acc*100:.2f}%')\n",
        "      print(f'\\t Val. Loss: {valid_loss:.3f} |  Val. Acc: {valid_acc*100:.2f}%')\n",
        "\n",
        "      if stop_criterion == 4:\n",
        "        print('Early stopping')\n",
        "        break\n",
        "else:\n",
        "  cnn.load_state_dict(torch.load('cnn_hindi_model.pt'))\n",
        "  best_model_hindi = cnn"
      ],
      "execution_count": 63,
      "outputs": []
    },
    {
      "cell_type": "markdown",
      "metadata": {
        "id": "y-a1RtfwjWbi"
      },
      "source": [
        "#### Visualize Loss and Accuracy for the model with batch size#64 and number of filters #35"
      ]
    },
    {
      "cell_type": "code",
      "metadata": {
        "colab": {
          "base_uri": "https://localhost:8080/",
          "height": 295
        },
        "id": "swv9iYTnvPbA",
        "outputId": "39ac1194-c3ac-4509-f3d5-34efa8973cb5"
      },
      "source": [
        "# Don't run this cell if you didn't train the models\n",
        "\n",
        "if train_models:\n",
        "  epoch_count = list(range(1, len(train_loss_history)+1))\n",
        "  x1 = epoch_count\n",
        "  x2 = epoch_count\n",
        "  y1_train = train_loss_history\n",
        "  y1_val = val_loss_history\n",
        "  y2_train = train_acc_history\n",
        "  y2_val = val_acc_history\n",
        "\n",
        "  fig, axes = plt.subplots(nrows=1, ncols=2, figsize=(12,4))\n",
        "  axes[0].plot(x1, y1_train, 'r--')\n",
        "  axes[0].plot(x1, y1_val, 'b--')\n",
        "  axes[0].legend(['Training Loss', 'Validation Loss'])\n",
        "  axes[0].set(xlabel='Epoch', ylabel='Loss')\n",
        "  axes[0].set_title('CNN model loss with batch#16')\n",
        "  axes[1].plot(x1, y2_train, 'r--')\n",
        "  axes[1].plot(x1, y2_val, 'b--')\n",
        "  axes[1].legend(['Training Accuracy', 'Validation Accuracy'])\n",
        "  axes[1].set(xlabel='Epoch', ylabel='Accuracy')\n",
        "  axes[1].set_title('CNN model accuracy with batch#16')\n",
        "  plt.savefig('cnn_with_batch#16.png')"
      ],
      "execution_count": 39,
      "outputs": [
        {
          "output_type": "display_data",
          "data": {
            "image/png": "[encoded data removed]",
            "text/plain": [
              "<Figure size 864x288 with 2 Axes>"
            ]
          },
          "metadata": {
            "tags": [],
            "needs_background": "light"
          }
        }
      ]
    },
    {
      "cell_type": "markdown",
      "metadata": {
        "id": "Ip8xX3x7akux"
      },
      "source": [
        "#### Evaluate model on test data"
      ]
    },
    {
      "cell_type": "code",
      "metadata": {
        "id": "J65RPPoOaj7z",
        "colab": {
          "base_uri": "https://localhost:8080/"
        },
        "outputId": "57572cba-5384-4b5a-d796-788c1908676b"
      },
      "source": [
        "best_model_hindi.eval()\n",
        "test_acc_hindi, precision, recall, f1_score = evaluate_sentiment_classifier(best_model_hindi, testloader_hindi)\n",
        "print(f'Accuracy of Binary sentiment classification for Hindi test dataset: {test_acc_hindi*100:.2f}%')\n",
        "print(f'Precision of Hindi test dataset: {precision*100:.2f}%')\n",
        "print(f'Recall of Hindi test dataset: {recall*100:.2f}%')\n",
        "print(f'F1 score for Hindi test dataset: {f1_score*100:.2f}%')"
      ],
      "execution_count": 64,
      "outputs": [
        {
          "output_type": "stream",
          "text": [
            "Accuracy of Binary sentiment classification for Hindi test dataset: 75.47%\n",
            "Precision of Hindi test dataset: 77.30%\n",
            "Recall of Hindi test dataset: 69.53%\n",
            "F1 score for Hindi test dataset: 73.21%\n"
          ],
          "name": "stdout"
        }
      ]
    },
    {
      "cell_type": "markdown",
      "metadata": {
        "id": "yz4CySW3q0zW"
      },
      "source": [
        "## Task 3b) Preprocess Bengali dataset to make Approximately equal size in sense of size and class distribution as Hindi Dataset"
      ]
    },
    {
      "cell_type": "markdown",
      "metadata": {
        "id": "02P8ILCho4dG"
      },
      "source": [
        "**MUST READ**\n",
        "#### If you want to sample bengali dataset, then you have to train the word2vec for Bengali dataset again which requires a lot of time and memory that we trained on clusters. That will make `train_bg_word2vec` flag to 1 that will eventually force to train the word2vec for bengali datset. Initailly the flag is set to 0 to load the presampled bengali data and presampled bengali embedding. **Set the value of `train_bg_word2vec = 1` only and only if you want to train word2vec for Bengali dataset**"
      ]
    },
    {
      "cell_type": "code",
      "metadata": {
        "id": "kCET16qvsI3N"
      },
      "source": [
        "# keep it 0 if you don't want to train word2vec for bengali dataset once again that will take hours.\n",
        "train_bg_word2vec = 0"
      ],
      "execution_count": 3,
      "outputs": []
    },
    {
      "cell_type": "markdown",
      "metadata": {
        "id": "t7e5vx4Rx7KG"
      },
      "source": [
        "#### Loading the already sampled Bengali dataset if train_bg_word2vec = 0 else sample again and you may need to train word2vec for Bengali dataeset if vocabulary size mismatch due to random sampling(though seed is used)"
      ]
    },
    {
      "cell_type": "code",
      "metadata": {
        "colab": {
          "base_uri": "https://localhost:8080/"
        },
        "id": "dWvVuICyx7wG",
        "outputId": "a3f15a30-9c31-428e-9621-67b29b633a5a"
      },
      "source": [
        "if train_bg_word2vec==0:\n",
        "  data = pd.read_csv('bengali_hatespeech_sampled.csv', usecols=['text', 'task_1'])\n",
        "\n",
        "  dev_bg, val_test_bg = train_test_split(data, test_size = 0.3, random_state = 21)\n",
        "  val_bg, test_bg = train_test_split(val_test_bg, test_size = 0.5, random_state = 21)\n",
        "\n",
        "  dev_bg.reset_index(drop = True, inplace=True)\n",
        "  val_bg.reset_index(drop = True, inplace=True)\n",
        "  test_bg.reset_index(drop = True, inplace=True)\n",
        "\n",
        "  print(dev_bg.head())\n",
        "else:\n",
        "  df = pd.read_csv('bengali_hatespeech.csv', usecols=['sentence', 'hate'])\n",
        "  #split data classes\n",
        "  data_hate = df.iloc[:10000]\n",
        "  data_not = df.iloc[-20000:]\n",
        "  data_hate_sampled = data_hate.sample(n = 2500, random_state=1) \n",
        "  data_not_sampled = data_not.sample(n = 2200, random_state=1) \n",
        "  data_concat = pd.concat([data_hate_sampled, data_not_sampled], ignore_index=True)\n",
        "  dev = data_concat.sample(frac=1).reset_index(drop=True)\n",
        "  dev.columns=['text', 'task_1']\n",
        "  dev['task_1'] = dev['task_1'].replace([1],'HOF')\n",
        "  dev['task_1'] = dev['task_1'].replace([0],'NOT')\n",
        "  dev_bg = dev\n",
        "  dev.to_csv('bengali_hatespeech_sampled.csv')\n",
        "  print(dev_bg.head())"
      ],
      "execution_count": 4,
      "outputs": [
        {
          "output_type": "stream",
          "text": [
            "                                        text task_1\n",
            "0          বাল শুনেছি তোমার আর -বলতে হবে না,    HOF\n",
            "1                  মদি মা কে চুদি মাদারি চুদ    HOF\n",
            "2                             পাপন সালা গুরু    NOT\n",
            "3             কুকুরের বাচ্চার জন্ম কোন জেলার    HOF\n",
            "4  বাচ্চা তুই তো করেছিস পাপন শুয়োরের বাচ্চা    HOF\n"
          ],
          "name": "stdout"
        }
      ]
    },
    {
      "cell_type": "markdown",
      "metadata": {
        "id": "7cvMlVn8sSRS"
      },
      "source": [
        "#### Augment the bengali dataset by back translation"
      ]
    },
    {
      "cell_type": "code",
      "metadata": {
        "id": "g0ccxroE4sGQ"
      },
      "source": [
        "df_tr = pd.read_csv('translated-bg.csv', usecols=['text', 'task_1'])"
      ],
      "execution_count": 5,
      "outputs": []
    },
    {
      "cell_type": "code",
      "metadata": {
        "colab": {
          "base_uri": "https://localhost:8080/"
        },
        "id": "1xLnl5e3q-Rg",
        "outputId": "3f295ee1-cbf6-4754-c0b5-a9650087167c"
      },
      "source": [
        "# Concat dev with the translated dataset\n",
        "dev_bg = pd.concat([dev_bg, df_tr]\n",
        "                    , ignore_index=True)\n",
        "dev_bg.drop_duplicates(subset =\"text\", \n",
        "                     keep = 'first', inplace = True) \n",
        "\n",
        "print(len(dev_bg))"
      ],
      "execution_count": 6,
      "outputs": [
        {
          "output_type": "stream",
          "text": [
            "6563\n"
          ],
          "name": "stdout"
        }
      ]
    },
    {
      "cell_type": "markdown",
      "metadata": {
        "id": "j-2xMNnTxr6D"
      },
      "source": [
        "#### Preprocess the Bengali dataset. Here we remove the punctuations, stopwords and other non-influential words and symbols like 'http' and '@' from the beginning of a word and make word list candidates from the sentences. "
      ]
    },
    {
      "cell_type": "code",
      "metadata": {
        "id": "8wRUG8ByrRQD"
      },
      "source": [
        "hi = 'stopwords-hi.txt'\n",
        "bg = 'stopwords-bn.txt'\n",
        "en = 'stopwords-en.txt'"
      ],
      "execution_count": 7,
      "outputs": []
    },
    {
      "cell_type": "code",
      "metadata": {
        "colab": {
          "base_uri": "https://localhost:8080/"
        },
        "id": "44fl1WpgrRQG",
        "outputId": "7b64380a-102f-4535-dae7-129f48745326"
      },
      "source": [
        "dev_bg['text'] = dev_bg['text'].apply(lambda x: preprocess(x, hi, bg, en))\n",
        "dev_bg = dev_bg.dropna()\n",
        "dev_bg = dev_bg.reset_index(drop=True)\n",
        "\n",
        "val_bg['text'] = val_bg['text'].apply(lambda x: preprocess(x, hi, bg, en))\n",
        "val_bg = val_bg.dropna()\n",
        "val_bg = val_bg.reset_index(drop=True)\n",
        "\n",
        "test_bg['text'] = test_bg['text'].apply(lambda x: preprocess(x, hi, bg, en))\n",
        "test_bg = test_bg.dropna()\n",
        "test_bg = test_bg.reset_index(drop=True)"
      ],
      "execution_count": 8,
      "outputs": [
        {
          "output_type": "stream",
          "text": [
            "/usr/local/lib/python3.7/dist-packages/ipykernel_launcher.py:5: SettingWithCopyWarning: \n",
            "A value is trying to be set on a copy of a slice from a DataFrame.\n",
            "Try using .loc[row_indexer,col_indexer] = value instead\n",
            "\n",
            "See the caveats in the documentation: https://pandas.pydata.org/pandas-docs/stable/user_guide/indexing.html#returning-a-view-versus-a-copy\n",
            "  \"\"\"\n",
            "/usr/local/lib/python3.7/dist-packages/ipykernel_launcher.py:9: SettingWithCopyWarning: \n",
            "A value is trying to be set on a copy of a slice from a DataFrame.\n",
            "Try using .loc[row_indexer,col_indexer] = value instead\n",
            "\n",
            "See the caveats in the documentation: https://pandas.pydata.org/pandas-docs/stable/user_guide/indexing.html#returning-a-view-versus-a-copy\n",
            "  if __name__ == '__main__':\n"
          ],
          "name": "stderr"
        }
      ]
    },
    {
      "cell_type": "markdown",
      "metadata": {
        "id": "m-N2xQ2YsoRX"
      },
      "source": [
        "#### Augment the dataset by synonyms replacement"
      ]
    },
    {
      "cell_type": "code",
      "metadata": {
        "colab": {
          "base_uri": "https://localhost:8080/"
        },
        "id": "8HN2KnLtsoRl",
        "outputId": "d11e943d-f216-4279-d642-9c0421d7f4e5"
      },
      "source": [
        "aug_n = 9 # How many times to augment the dataset\n",
        "aug_w_n = 150 # Number of words to replace\n",
        "\n",
        "np.random.seed(21)\n",
        "for i in range(aug_n):\n",
        "\tprint('Augmentation iteration #: {}'.format(i+1))\n",
        "\tdev_bg = augment_dataset(dev_bg, aug_w_n, 'Synonym-bn.txt')"
      ],
      "execution_count": 9,
      "outputs": [
        {
          "output_type": "stream",
          "text": [
            "Augmentation iteration #: 1\n",
            "Dev size: 8434\n",
            "Augmentation iteration #: 2\n",
            "Dev size: 10825\n",
            "Augmentation iteration #: 3\n",
            "Dev size: 12570\n",
            "Augmentation iteration #: 4\n",
            "Dev size: 13948\n",
            "Augmentation iteration #: 5\n",
            "Dev size: 15092\n",
            "Augmentation iteration #: 6\n",
            "Dev size: 16082\n",
            "Augmentation iteration #: 7\n",
            "Dev size: 16952\n",
            "Augmentation iteration #: 8\n",
            "Dev size: 17737\n",
            "Augmentation iteration #: 9\n",
            "Dev size: 18448\n"
          ],
          "name": "stdout"
        }
      ]
    },
    {
      "cell_type": "markdown",
      "metadata": {
        "id": "OkE_GSemhrt1"
      },
      "source": [
        "#### Obtaining the statistics"
      ]
    },
    {
      "cell_type": "code",
      "metadata": {
        "colab": {
          "base_uri": "https://localhost:8080/"
        },
        "id": "i5yB4octhsH1",
        "outputId": "f8e7c622-6541-44df-c904-fc55b416524d"
      },
      "source": [
        "full_df = pd.concat([dev_bg, val_bg, test_bg])\n",
        "\n",
        "print('Dataset lenght: {}'.format(len(full_df)))\n",
        "print('Offensive: {}'.format(len(full_df[full_df['task_1'] == 'HOF'])))\n",
        "print('Not offensive: {}'.format(len(full_df[full_df['task_1'] == 'NOT'])))\n",
        "print('Training data: {}'.format(len(dev_bg)))\n",
        "print('Validation data: {}'.format(len(val_bg)))\n",
        "print('Test data: {}'.format(len(test_bg)))\n",
        "\n",
        "del full_df"
      ],
      "execution_count": 10,
      "outputs": [
        {
          "output_type": "stream",
          "text": [
            "Dataset lenght: 19853\n",
            "Offensive: 9277\n",
            "Not offensive: 10576\n",
            "Training data: 18448\n",
            "Validation data: 703\n",
            "Test data: 702\n"
          ],
          "name": "stdout"
        }
      ]
    },
    {
      "cell_type": "markdown",
      "metadata": {
        "id": "_jwh0-Dt0cke"
      },
      "source": [
        "#### Build the vocabulary avaialable in the dataset"
      ]
    },
    {
      "cell_type": "code",
      "metadata": {
        "colab": {
          "base_uri": "https://localhost:8080/"
        },
        "id": "T4iS8pr-0ckm",
        "outputId": "a09202db-9583-49d6-a71c-1f67793c9349"
      },
      "source": [
        "bg_V = build_vocab(dev_bg)\n",
        "summ = sum(bg_V.values())\n",
        "len(bg_V)"
      ],
      "execution_count": 11,
      "outputs": [
        {
          "output_type": "execute_result",
          "data": {
            "text/plain": [
              "16503"
            ]
          },
          "metadata": {
            "tags": []
          },
          "execution_count": 11
        }
      ]
    },
    {
      "cell_type": "markdown",
      "metadata": {
        "id": "S6vGO2bv-TMt"
      },
      "source": [
        "#### Developing a dictionary that represents the one hot encoding of the words in the vocabulary"
      ]
    },
    {
      "cell_type": "code",
      "metadata": {
        "id": "aOPQNd3T1a89"
      },
      "source": [
        "if train_bg_word2vec==0: #padding is 1 when we don't want to train word2vec but will load it later\n",
        "  pad = 1\n",
        "  onehot_dict_bg = build_onehot(bg_V, pad)\n",
        "else:\n",
        "  pad = 0\n",
        "  onehot_dict_bg = build_onehot(bg_V, pad)\n"
      ],
      "execution_count": 12,
      "outputs": []
    },
    {
      "cell_type": "markdown",
      "metadata": {
        "id": "YEgbtIGzjeIC"
      },
      "source": [
        "#### Set hyperparameters for training word2vec model for Bengali dataset"
      ]
    },
    {
      "cell_type": "code",
      "metadata": {
        "id": "oCXKdlh61mol"
      },
      "source": [
        "# Set hyperparameters\n",
        "window_size = 5\n",
        "embedding_size = 300\n",
        "input_size_bg = len(bg_V) # Onehot vector length\n",
        "batch_size = 50\n",
        "\n",
        "# More hyperparameters\n",
        "learning_rate = 0.05\n",
        "epochs = 100"
      ],
      "execution_count": 13,
      "outputs": []
    },
    {
      "cell_type": "markdown",
      "metadata": {
        "id": "vldaDUt_kzjL"
      },
      "source": [
        "#### Create Bengali dataset instance for word2vec and use collate function for batches"
      ]
    },
    {
      "cell_type": "code",
      "metadata": {
        "id": "Is0-eTrl2Ko1"
      },
      "source": [
        "dataset_bg = BengaliDataset(dev_bg['text'], window_size, bg_V, summ, onehot_dict_bg)\n",
        "dataloader = DataLoader(dataset_bg, collate_fn = my_collate, batch_size= batch_size)"
      ],
      "execution_count": 14,
      "outputs": []
    },
    {
      "cell_type": "markdown",
      "metadata": {
        "id": "UeqWQepolVZi"
      },
      "source": [
        "#### Create word2vec model instance for Bengali if you want to train the model. "
      ]
    },
    {
      "cell_type": "code",
      "metadata": {
        "id": "XqOQxjAT2iSk"
      },
      "source": [
        "word2vec_bg_model = Word2Vec(input_size_bg, embedding_size)\n",
        "word2vec_bg_model.cuda()\n",
        "if train_bg_word2vec==1:\n",
        "  print(word2vec_bg_model.fc1.weight.shape)\n",
        "  word2vec_bg_model.double()\n",
        "  nn.init.uniform_(word2vec_bg_model.fc1.weight)\n",
        "  nn.init.uniform_(word2vec_bg_model.fc2.weight)"
      ],
      "execution_count": 15,
      "outputs": []
    },
    {
      "cell_type": "markdown",
      "metadata": {
        "id": "qEiQLp8Wl7ET"
      },
      "source": [
        "#### Define optimizer and loss for Word2Vec"
      ]
    },
    {
      "cell_type": "code",
      "metadata": {
        "id": "eQncTHEQ2oX1"
      },
      "source": [
        "# Define optimizer and loss\n",
        "optimizer = torch.optim.Adam(word2vec_bg_model.parameters(), lr = learning_rate)\n",
        "\n",
        "criterion = nn.CosineEmbeddingLoss()"
      ],
      "execution_count": 16,
      "outputs": []
    },
    {
      "cell_type": "markdown",
      "metadata": {
        "id": "oflRqEkO3BVl"
      },
      "source": [
        "## Task 3c) Bengali Embedding  \n",
        "#### Run the below cell to train the word2vec model. It will take hours to completely train. If training word2vec for Bengali dataset is set to 1 then it will train otherwise, already trained model will be loaded "
      ]
    },
    {
      "cell_type": "code",
      "metadata": {
        "id": "yCnG2MZS2-Yd"
      },
      "source": [
        "if train_bg_word2vec==1: #For training\n",
        "  train(epochs, dataloader, word2vec_bg_model, criterion, optimizer)\n",
        "  print(\"Training finished\")\n",
        "  torch.save(model.state_dict(), 'Word2Vec-bg.model')\n",
        "\n",
        "else:           #for loading already trained word2vec model 'Word2Vec-bg.model' that should be available in the runtime\n",
        "  word2vec_bg_model = Word2Vec(input_size_bg, embedding_size) \n",
        "  word2vec_bg_model.load_state_dict(torch.load('/content/Word2Vec-bg-aug.model'))\n",
        "  word2vec_bg_model.eval()\n",
        "  # Add a column to the first hidden layer matrix of the word2vec model for the padding embedding.\n",
        "  embeddings = torch.cat((word2vec_bg_model.fc1.weight.detach(), torch.zeros(embedding_size).unsqueeze(1)), dim = 1) # init the padding embedding by zeros\n",
        "  biases = word2vec_bg_model.fc1.bias.detach()\n"
      ],
      "execution_count": 17,
      "outputs": []
    },
    {
      "cell_type": "markdown",
      "metadata": {
        "id": "K-5EoGDXPBgX"
      },
      "source": [
        "## Task 3d) Part-0: Build a Bengali sentiment classifier with Bengali embedding "
      ]
    },
    {
      "cell_type": "markdown",
      "metadata": {
        "id": "C6OAe4df24p3"
      },
      "source": [
        "#### One hot encoding with padding "
      ]
    },
    {
      "cell_type": "code",
      "metadata": {
        "id": "wCmXV1pB24p4",
        "colab": {
          "base_uri": "https://localhost:8080/"
        },
        "outputId": "4ca24c61-b833-4e67-803a-05b84a204bb2"
      },
      "source": [
        "pad = 1\n",
        "onehot_dict_bg = build_onehot(bg_V, pad)\n",
        "print(onehot_dict_bg[' '])"
      ],
      "execution_count": 18,
      "outputs": [
        {
          "output_type": "stream",
          "text": [
            "[0. 0. 0. ... 0. 0. 1.]\n"
          ],
          "name": "stdout"
        }
      ]
    },
    {
      "cell_type": "markdown",
      "metadata": {
        "id": "w-ghuCK624p5"
      },
      "source": [
        "#### Getting the insigths of the sentences in sense of the number of words in a sentence for bengali Dataset"
      ]
    },
    {
      "cell_type": "code",
      "metadata": {
        "id": "5Lej9sH024p5",
        "colab": {
          "base_uri": "https://localhost:8080/",
          "height": 418
        },
        "outputId": "473c8f03-5500-4c8a-8324-13766c94fa15"
      },
      "source": [
        "text_len = [len(x) for x in dev_bg['text']]\n",
        "ax = pd.Series(text_len).hist(bins=50)\n",
        "fig = ax.get_figure()\n",
        "fig.savefig('Bengali_dataset_histogram.png')\n",
        "pd.Series(text_len).describe()"
      ],
      "execution_count": 19,
      "outputs": [
        {
          "output_type": "execute_result",
          "data": {
            "text/plain": [
              "count    18448.000000\n",
              "mean        14.647008\n",
              "std         20.635304\n",
              "min          1.000000\n",
              "25%          4.000000\n",
              "50%          8.000000\n",
              "75%         16.000000\n",
              "max        254.000000\n",
              "dtype: float64"
            ]
          },
          "metadata": {
            "tags": []
          },
          "execution_count": 19
        },
        {
          "output_type": "display_data",
          "data": {
            "image/png": "[encoded data removed]",
            "text/plain": [
              "<Figure size 432x288 with 1 Axes>"
            ]
          },
          "metadata": {
            "tags": [],
            "needs_background": "light"
          }
        }
      ]
    },
    {
      "cell_type": "markdown",
      "metadata": {
        "id": "A2ADZI-G24p6"
      },
      "source": [
        "#### From the Histogram above we see that 75% of the sentences are covered with 11 being the size of the words in sentences. We select 20 as the maximum number of words in a sentence considering factor like outliers for Bengali dataset."
      ]
    },
    {
      "cell_type": "markdown",
      "metadata": {
        "id": "5gQRN9vx24p6"
      },
      "source": [
        "#### Set hyperparameters for sentiment analysis on bengali data using already trained hindi model"
      ]
    },
    {
      "cell_type": "code",
      "metadata": {
        "id": "ZXbkUrZ824p7"
      },
      "source": [
        "# Set hyperparameters\n",
        "batch_size = 64\n",
        "min_sen_length = 20\n",
        "embedding_size = 300\n",
        "input_size_bg = len(bg_V)\n",
        "output_dim = 1\n",
        "dropout = 0.5\n",
        "n_filters = 35\n",
        "filter_sizes = [2,5,3]"
      ],
      "execution_count": 20,
      "outputs": []
    },
    {
      "cell_type": "markdown",
      "metadata": {
        "id": "Yz0U0-Q924p7"
      },
      "source": [
        "#### We create a custom Bengali dataset and data loader to train the binary classifier"
      ]
    },
    {
      "cell_type": "code",
      "metadata": {
        "id": "s9YdTL2X3FTr"
      },
      "source": [
        "train_dataset_bg = MyDataset(dev_bg, min_sen_length, onehot_dict_bg)\n",
        "val_dataset_bg = MyDataset(val_bg, min_sen_length, onehot_dict_bg)\n",
        "test_dataset_bg = MyDataset(test_bg, min_sen_length, onehot_dict_bg)"
      ],
      "execution_count": 21,
      "outputs": []
    },
    {
      "cell_type": "code",
      "metadata": {
        "id": "63rhqqat3FTu",
        "colab": {
          "base_uri": "https://localhost:8080/"
        },
        "outputId": "3249569e-f042-467f-dd26-1af13774dd88"
      },
      "source": [
        "trainloader = DataLoader(train_dataset_bg, batch_size= batch_size)\n",
        "valloader = DataLoader(val_dataset_bg, batch_size= batch_size)\n",
        "testloader = DataLoader(test_dataset_bg, batch_size= batch_size, shuffle = False)\n",
        "\n",
        "i1, l1 = next(iter(valloader))\n",
        "print(i1.shape)"
      ],
      "execution_count": 22,
      "outputs": [
        {
          "output_type": "stream",
          "text": [
            "torch.Size([64, 20, 16504])\n"
          ],
          "name": "stdout"
        }
      ]
    },
    {
      "cell_type": "markdown",
      "metadata": {
        "id": "xlXnd_ryRxzI"
      },
      "source": [
        "#### Create CNN model instance by importing CNN_BENGALI defined in task2_utils file."
      ]
    },
    {
      "cell_type": "code",
      "metadata": {
        "id": "jWEYvJbRRpk2",
        "colab": {
          "base_uri": "https://localhost:8080/"
        },
        "outputId": "7eabc84c-251a-45a5-fb42-87bfbc9c5cc8"
      },
      "source": [
        "cnn_bengali_bg = CNN_BENGALI(input_size_bg, embedding_size, n_filters, filter_sizes, output_dim, dropout)\n",
        "cnn_bengali_bg.double()\n",
        "cnn_bengali_bg.cuda()"
      ],
      "execution_count": 23,
      "outputs": [
        {
          "output_type": "execute_result",
          "data": {
            "text/plain": [
              "CNN_BENGALI(\n",
              "  (embedding): Linear(in_features=16504, out_features=300, bias=True)\n",
              "  (conv_0): Conv2d(1, 35, kernel_size=(2, 300), stride=(1, 1))\n",
              "  (conv_1): Conv2d(1, 35, kernel_size=(5, 300), stride=(1, 1))\n",
              "  (conv_2): Conv2d(1, 35, kernel_size=(3, 300), stride=(1, 1))\n",
              "  (fc): Linear(in_features=105, out_features=1, bias=True)\n",
              "  (dropout): Dropout(p=0.5, inplace=False)\n",
              ")"
            ]
          },
          "metadata": {
            "tags": []
          },
          "execution_count": 23
        }
      ]
    },
    {
      "cell_type": "markdown",
      "metadata": {
        "id": "3ekmITJlR9cv"
      },
      "source": [
        "#### Copying the biases and embeddings of Bengali word2vec model "
      ]
    },
    {
      "cell_type": "code",
      "metadata": {
        "id": "zkJjCxTqR9cw",
        "colab": {
          "base_uri": "https://localhost:8080/"
        },
        "outputId": "438c98ed-909e-4c08-a3b4-499d43f89208"
      },
      "source": [
        "cnn_bengali_bg.embedding.bias.data.copy_(biases)\n",
        "cnn_bengali_bg.embedding.weight.data.copy_(embeddings)"
      ],
      "execution_count": 24,
      "outputs": [
        {
          "output_type": "execute_result",
          "data": {
            "text/plain": [
              "tensor([[-0.2521, -0.3656, -0.1287,  ...,  1.3743,  0.2100,  0.0000],\n",
              "        [-0.3558, -1.1004, -0.0721,  ...,  0.3195,  0.0069,  0.0000],\n",
              "        [ 0.1945, -0.0281, -0.2338,  ...,  0.2620, -0.8092,  0.0000],\n",
              "        ...,\n",
              "        [ 4.6841, -1.0397,  0.0622,  ...,  0.4243,  0.7611,  0.0000],\n",
              "        [ 1.9609, -0.1648, -0.2395,  ...,  0.8899,  0.3538,  0.0000],\n",
              "        [-0.8628, -0.3637, -0.4946,  ...,  0.1724,  0.0946,  0.0000]],\n",
              "       device='cuda:0', dtype=torch.float64)"
            ]
          },
          "metadata": {
            "tags": []
          },
          "execution_count": 24
        }
      ]
    },
    {
      "cell_type": "markdown",
      "metadata": {
        "id": "kxcr6FKYSaX3"
      },
      "source": [
        "#### Define optimizer and criterion for sentiment analysis training"
      ]
    },
    {
      "cell_type": "code",
      "metadata": {
        "id": "vnsncUeGSaX4"
      },
      "source": [
        "optimizer = optim.Adam(cnn_bengali_bg.parameters())\n",
        "\n",
        "criterion = nn.BCEWithLogitsLoss()"
      ],
      "execution_count": 25,
      "outputs": []
    },
    {
      "cell_type": "markdown",
      "metadata": {
        "id": "eQUlFLlTSzDv"
      },
      "source": [
        "#### Train CNN on Bengali data with Bengali Embedding "
      ]
    },
    {
      "cell_type": "code",
      "metadata": {
        "id": "yIRw0Xx81_0A"
      },
      "source": [
        "# Keep it False unless you want to retrain the model\n",
        "train_models = False"
      ],
      "execution_count": 26,
      "outputs": []
    },
    {
      "cell_type": "code",
      "metadata": {
        "id": "Po09-TqySzDw",
        "colab": {
          "base_uri": "https://localhost:8080/"
        },
        "outputId": "71bc0988-5658-47f3-d59f-875354797a2d"
      },
      "source": [
        "if train_models:\n",
        "  N_EPOCHS = 10\n",
        "  best_valid_loss = float('inf') #Initially sets to infinity\n",
        "  cnn_bengali_bg.train()\n",
        "\n",
        "  # Keeping loss and accuracy history of epochs for visualiztion\n",
        "  train_loss_history = []\n",
        "  train_acc_history = []\n",
        "  val_loss_history = []\n",
        "  val_acc_history = []\n",
        "\n",
        "  # Counter for Early stopping. Stops if no better loss for validation is achieved in 4 consecutive epochs.\n",
        "  stop_criterion = 0\n",
        "\n",
        "  for epoch in range(N_EPOCHS):\n",
        "      #start time of the epoch\n",
        "      start_time = time.time()\n",
        "      \n",
        "      train_loss, train_acc = train_cnn(cnn_bengali_bg, trainloader, optimizer, criterion)\n",
        "      valid_loss, valid_acc = evaluate_cnn(cnn_bengali_bg, valloader, criterion)\n",
        "      train_loss_history.append(train_loss)\n",
        "      train_acc_history.append(train_acc)\n",
        "      val_loss_history.append(valid_loss)\n",
        "      val_acc_history.append(valid_acc)\n",
        "\n",
        "      #End time\n",
        "      end_time = time.time()\n",
        "      # calculate elapsed time in mins and seconds\n",
        "      required_time = end_time - start_time\n",
        "      mins = int(required_time / 60)\n",
        "      secs = int(required_time - (mins * 60))\n",
        "      \n",
        "      stop_criterion += 1\n",
        "\n",
        "      #Saving the best model\n",
        "      if valid_loss < best_valid_loss:\n",
        "          best_valid_loss = valid_loss\n",
        "          torch.save(cnn_bengali_bg.state_dict(), 'cnn_bengali_bg_model.pt')\n",
        "          stop_criterion = 0\n",
        "          best_model_bengali = copy.deepcopy(cnn_bengali_bg)\n",
        "      \n",
        "      print(f'Epoch: {epoch+1:02} | Epoch Time: {mins}m {secs}s')\n",
        "      print(f'\\tTrain Loss: {train_loss:.3f} | Train Acc: {train_acc*100:.2f}%')\n",
        "      print(f'\\t Val. Loss: {valid_loss:.3f} |  Val. Acc: {valid_acc*100:.2f}%')\n",
        "\n",
        "      if stop_criterion == 4:\n",
        "        print('Early stopping')\n",
        "        break\n",
        "else:\n",
        "  cnn_bengali_bg.load_state_dict(torch.load('cnn_bengali_bg_model.pt'))\n",
        "  best_model_bengali = cnn_bengali_bg"
      ],
      "execution_count": 65,
      "outputs": [
        {
          "output_type": "stream",
          "text": [
            "Epoch: 01 | Epoch Time: 1m 19s\n",
            "\tTrain Loss: 0.403 | Train Acc: 81.22%\n",
            "\t Val. Loss: 0.509 |  Val. Acc: 78.24%\n",
            "Epoch: 02 | Epoch Time: 1m 19s\n",
            "\tTrain Loss: 0.233 | Train Acc: 90.18%\n",
            "\t Val. Loss: 0.554 |  Val. Acc: 78.66%\n",
            "Epoch: 03 | Epoch Time: 1m 19s\n",
            "\tTrain Loss: 0.162 | Train Acc: 93.62%\n",
            "\t Val. Loss: 0.590 |  Val. Acc: 77.81%\n",
            "Epoch: 04 | Epoch Time: 1m 19s\n",
            "\tTrain Loss: 0.109 | Train Acc: 95.83%\n",
            "\t Val. Loss: 0.637 |  Val. Acc: 78.66%\n",
            "Epoch: 05 | Epoch Time: 1m 19s\n",
            "\tTrain Loss: 0.076 | Train Acc: 97.13%\n",
            "\t Val. Loss: 0.697 |  Val. Acc: 77.96%\n",
            "Early stopping\n"
          ],
          "name": "stdout"
        }
      ]
    },
    {
      "cell_type": "markdown",
      "metadata": {
        "id": "HDCddtElTZt-"
      },
      "source": [
        "#### Visualize Loss and Accuracy for the sentiment classification model on Bengali data with Bengali embedding"
      ]
    },
    {
      "cell_type": "code",
      "metadata": {
        "id": "6EQub1lHTZt-",
        "colab": {
          "base_uri": "https://localhost:8080/",
          "height": 295
        },
        "outputId": "159fff0f-cd51-4a99-df78-325b78d1ff08"
      },
      "source": [
        "# Don't run this cell if you didn't train the models\n",
        "\n",
        "if train_models:\n",
        "  epoch_count = list(range(1, len(train_loss_history)+1))\n",
        "  x1 = epoch_count\n",
        "  x2 = epoch_count\n",
        "  y1_train = train_loss_history\n",
        "  y1_val = val_loss_history\n",
        "  y2_train = train_acc_history\n",
        "  y2_val = val_acc_history\n",
        "\n",
        "  fig, axes = plt.subplots(nrows=1, ncols=2, figsize=(12,4))\n",
        "  axes[0].plot(x1, y1_train, 'r--')\n",
        "  axes[0].plot(x1, y1_val, 'b--')\n",
        "  axes[0].legend(['Training Loss', 'Validation Loss'])\n",
        "  axes[0].set(xlabel='Epoch', ylabel='Loss')\n",
        "  axes[0].set_title('Bengali CNN loss with Bengali data')\n",
        "  axes[1].plot(x1, y2_train, 'r--')\n",
        "  axes[1].plot(x1, y2_val, 'b--')\n",
        "  axes[1].legend(['Training Accuracy', 'Validation Accuracy'])\n",
        "  axes[1].set(xlabel='Epoch', ylabel='Accuracy')\n",
        "  axes[1].set_title('Bengali CNN accuracy with Bengali data')\n",
        "  plt.savefig('bengali_cnn_with_bengali_data.png')"
      ],
      "execution_count": 66,
      "outputs": [
        {
          "output_type": "display_data",
          "data": {
            "image/png": "[encoded data removed]",
            "text/plain": [
              "<Figure size 864x288 with 2 Axes>"
            ]
          },
          "metadata": {
            "tags": [],
            "needs_background": "light"
          }
        }
      ]
    },
    {
      "cell_type": "markdown",
      "metadata": {
        "id": "4qeo0FChUBhm"
      },
      "source": [
        "#### Evaluation on bengali test dataset of Bengali sentiment classifier"
      ]
    },
    {
      "cell_type": "code",
      "metadata": {
        "id": "yrXEHlmqUBhm",
        "colab": {
          "base_uri": "https://localhost:8080/"
        },
        "outputId": "691a2372-c88d-4faa-8bea-7294697c29ce"
      },
      "source": [
        "cnn_bengali_bg.eval()\n",
        "test_acc_on_bengali_test_data, precision, recall, f1_score = evaluate_sentiment_classifier(best_model_bengali, testloader)\n",
        "print(f'Binary sentiment classification for Bengali test dataset with Bengali model: {test_acc_on_bengali_test_data*100:.2f}%')\n",
        "print(f'Precision for Bengali test dataset: {precision*100:.2f}%')\n",
        "print(f'Recall for Bengali test dataset: {recall*100:.2f}%')\n",
        "print(f'F1 score for Bengali test dataset: {f1_score*100:.2f}%')"
      ],
      "execution_count": 67,
      "outputs": [
        {
          "output_type": "stream",
          "text": [
            "Binary sentiment classification for Bengali test dataset with Bengali model: 77.93%\n",
            "Precision for Bengali test dataset: 74.57%\n",
            "Recall for Bengali test dataset: 79.82%\n",
            "F1 score for Bengali test dataset: 77.10%\n"
          ],
          "name": "stdout"
        }
      ]
    },
    {
      "cell_type": "markdown",
      "metadata": {
        "id": "3LZf2_RJ1APG"
      },
      "source": [
        "## Task 3d: Part-1: Apply the classifier(Hindi Sentiment classifier) to Bengali data(Bengali Embedding that is completely unseen to the sentiment classifier). "
      ]
    },
    {
      "cell_type": "markdown",
      "metadata": {
        "id": "8jvZwjTY140x"
      },
      "source": [
        "#### One hot encoding with padding "
      ]
    },
    {
      "cell_type": "code",
      "metadata": {
        "id": "KzwcLnGD3Ee0",
        "colab": {
          "base_uri": "https://localhost:8080/"
        },
        "outputId": "4613efde-744e-4809-e6e3-be29faf714b2"
      },
      "source": [
        "pad = 1\n",
        "onehot_dict_bg = build_onehot(bg_V, pad)\n",
        "print(onehot_dict_bg[' '])"
      ],
      "execution_count": 27,
      "outputs": [
        {
          "output_type": "stream",
          "text": [
            "[0. 0. 0. ... 0. 0. 1.]\n"
          ],
          "name": "stdout"
        }
      ]
    },
    {
      "cell_type": "markdown",
      "metadata": {
        "id": "Mr3entfI2Syl"
      },
      "source": [
        "#### Getting the insigths of the sentences in sense of the number of words in a sentence for bengali Dataset"
      ]
    },
    {
      "cell_type": "code",
      "metadata": {
        "id": "RAug556f3QM0",
        "colab": {
          "base_uri": "https://localhost:8080/",
          "height": 418
        },
        "outputId": "681df531-3111-4074-9521-a9c16df526e7"
      },
      "source": [
        "text_len = [len(x) for x in dev_bg['text']]\n",
        "pd.Series(text_len).hist(bins=50)\n",
        "pd.Series(text_len).describe()"
      ],
      "execution_count": 28,
      "outputs": [
        {
          "output_type": "execute_result",
          "data": {
            "text/plain": [
              "count    18448.000000\n",
              "mean        14.647008\n",
              "std         20.635304\n",
              "min          1.000000\n",
              "25%          4.000000\n",
              "50%          8.000000\n",
              "75%         16.000000\n",
              "max        254.000000\n",
              "dtype: float64"
            ]
          },
          "metadata": {
            "tags": []
          },
          "execution_count": 28
        },
        {
          "output_type": "display_data",
          "data": {
            "image/png": "[encoded data removed]",
            "text/plain": [
              "<Figure size 432x288 with 1 Axes>"
            ]
          },
          "metadata": {
            "tags": [],
            "needs_background": "light"
          }
        }
      ]
    },
    {
      "cell_type": "markdown",
      "metadata": {
        "id": "k4HakIe9gPCE"
      },
      "source": [
        "#### From the Histogram above we see that 75% of the sentences are covered with 11 being the size of the words in sentences. We select 20 as the maximum number of words in a sentence considering factor like outliers for Bengali dataset."
      ]
    },
    {
      "cell_type": "markdown",
      "metadata": {
        "id": "jFbL1pNR6Y9c"
      },
      "source": [
        "#### Set hyperparameters for sentiment analysis on bengali data using already trained hindi model"
      ]
    },
    {
      "cell_type": "code",
      "metadata": {
        "id": "-uh1lW763R7M"
      },
      "source": [
        "# Set hyperparameters\n",
        "batch_size = 16\n",
        "min_sen_length = 20\n",
        "embedding_size = 300\n",
        "input_size_bg = len(bg_V)\n",
        "output_dim = 1\n",
        "dropout = 0.5\n",
        "n_filters = 35\n",
        "filter_sizes = [2,3,5]\n",
        "N_EPOCHS = 10"
      ],
      "execution_count": 51,
      "outputs": []
    },
    {
      "cell_type": "markdown",
      "metadata": {
        "id": "aRJJyFfd6Jpf"
      },
      "source": [
        "#### We create a custom Bengali dataset and data loader to train the binary classifier"
      ]
    },
    {
      "cell_type": "code",
      "metadata": {
        "id": "LFJS0gIewcS0"
      },
      "source": [
        "train_dataset_bg = MyDataset(dev_bg, min_sen_length, onehot_dict_bg)\n",
        "val_dataset_bg = MyDataset(val_bg, min_sen_length, onehot_dict_bg)\n",
        "test_dataset_bg = MyDataset(test_bg, min_sen_length, onehot_dict_bg)"
      ],
      "execution_count": 52,
      "outputs": []
    },
    {
      "cell_type": "code",
      "metadata": {
        "id": "d2psC3px3aps",
        "colab": {
          "base_uri": "https://localhost:8080/"
        },
        "outputId": "b10da030-353c-43e8-8452-3af8cff6f5cf"
      },
      "source": [
        "trainloader = DataLoader(train_dataset_bg, batch_size= batch_size)\n",
        "valloader = DataLoader(val_dataset_bg, batch_size= batch_size)\n",
        "testloader = DataLoader(test_dataset_bg, batch_size= batch_size, shuffle = False)\n",
        "\n",
        "i1, l1 = next(iter(valloader))\n",
        "print(i1.shape)"
      ],
      "execution_count": 53,
      "outputs": [
        {
          "output_type": "stream",
          "text": [
            "torch.Size([16, 20, 16504])\n"
          ],
          "name": "stdout"
        }
      ]
    },
    {
      "cell_type": "markdown",
      "metadata": {
        "id": "79ucOf4DJJkl"
      },
      "source": [
        "#### Create CNN model instance by importing CNN_BENGALI defined in task2_utils file."
      ]
    },
    {
      "cell_type": "code",
      "metadata": {
        "colab": {
          "base_uri": "https://localhost:8080/"
        },
        "id": "5qzpVHqjJ3Gf",
        "outputId": "35b8df3e-105d-48ff-9e28-1b8255636c9e"
      },
      "source": [
        "cnn_bengali_hi = CNN_BENGALI(input_size_bg, embedding_size, n_filters, filter_sizes, output_dim, dropout)\n",
        "cnn_bengali_hi.double()\n",
        "cnn_bengali_hi.cuda()"
      ],
      "execution_count": 54,
      "outputs": [
        {
          "output_type": "execute_result",
          "data": {
            "text/plain": [
              "CNN_BENGALI(\n",
              "  (embedding): Linear(in_features=16504, out_features=300, bias=True)\n",
              "  (conv_0): Conv2d(1, 35, kernel_size=(2, 300), stride=(1, 1))\n",
              "  (conv_1): Conv2d(1, 35, kernel_size=(3, 300), stride=(1, 1))\n",
              "  (conv_2): Conv2d(1, 35, kernel_size=(5, 300), stride=(1, 1))\n",
              "  (fc): Linear(in_features=105, out_features=1, bias=True)\n",
              "  (dropout): Dropout(p=0.5, inplace=False)\n",
              ")"
            ]
          },
          "metadata": {
            "tags": []
          },
          "execution_count": 54
        }
      ]
    },
    {
      "cell_type": "markdown",
      "metadata": {
        "id": "GUBjypOR7Qlx"
      },
      "source": [
        "#### Copying the biases and embeddings of Bengali word2vec model "
      ]
    },
    {
      "cell_type": "code",
      "metadata": {
        "colab": {
          "base_uri": "https://localhost:8080/"
        },
        "id": "PzvkGE5lKQmr",
        "outputId": "39388b4a-b49b-4d9c-f3d9-c51e835523ee"
      },
      "source": [
        "cnn_bengali_hi.embedding.bias.data.copy_(biases)\n",
        "cnn_bengali_hi.embedding.weight.data.copy_(embeddings)"
      ],
      "execution_count": 55,
      "outputs": [
        {
          "output_type": "execute_result",
          "data": {
            "text/plain": [
              "tensor([[-0.2521, -0.3656, -0.1287,  ...,  1.3743,  0.2100,  0.0000],\n",
              "        [-0.3558, -1.1004, -0.0721,  ...,  0.3195,  0.0069,  0.0000],\n",
              "        [ 0.1945, -0.0281, -0.2338,  ...,  0.2620, -0.8092,  0.0000],\n",
              "        ...,\n",
              "        [ 4.6841, -1.0397,  0.0622,  ...,  0.4243,  0.7611,  0.0000],\n",
              "        [ 1.9609, -0.1648, -0.2395,  ...,  0.8899,  0.3538,  0.0000],\n",
              "        [-0.8628, -0.3637, -0.4946,  ...,  0.1724,  0.0946,  0.0000]],\n",
              "       device='cuda:0', dtype=torch.float64)"
            ]
          },
          "metadata": {
            "tags": []
          },
          "execution_count": 55
        }
      ]
    },
    {
      "cell_type": "markdown",
      "metadata": {
        "id": "79GlWKvQ7byc"
      },
      "source": [
        "#### Copying the weights and biases from **HINDI** CNN model that is already trained for creating Bengali CNN model. That means `cnn_bengali` model has Bengali word2vec as embedding layer and all other layers are from the Hindi CNN model. "
      ]
    },
    {
      "cell_type": "code",
      "metadata": {
        "colab": {
          "base_uri": "https://localhost:8080/"
        },
        "id": "CLXVjSS593Td",
        "outputId": "64ddb588-9960-4762-b7bc-56325812b6de"
      },
      "source": [
        "best_model_hindi = CNN_HINDI(input_size_hi, embedding_size, n_filters, filter_sizes, output_dim, dropout)\n",
        "best_model_hindi.double()\n",
        "best_model_hindi.cuda()\n",
        "best_model_hindi.load_state_dict(torch.load('cnn_hindi_model.pt'))"
      ],
      "execution_count": 56,
      "outputs": [
        {
          "output_type": "execute_result",
          "data": {
            "text/plain": [
              "<All keys matched successfully>"
            ]
          },
          "metadata": {
            "tags": []
          },
          "execution_count": 56
        }
      ]
    },
    {
      "cell_type": "code",
      "metadata": {
        "colab": {
          "base_uri": "https://localhost:8080/"
        },
        "id": "9rYFzGrfKXLL",
        "outputId": "60a8c15a-e362-4beb-bf9f-d5ac2dc6094a"
      },
      "source": [
        "cnn_bengali_hi.conv_0.bias.data.copy_(best_model_hindi.conv_0.bias)\n",
        "cnn_bengali_hi.conv_0.weight.data.copy_(best_model_hindi.conv_0.weight)\n",
        "cnn_bengali_hi.conv_1.bias.data.copy_(best_model_hindi.conv_1.bias)\n",
        "cnn_bengali_hi.conv_1.weight.data.copy_(best_model_hindi.conv_1.weight)\n",
        "cnn_bengali_hi.conv_2.bias.data.copy_(best_model_hindi.conv_2.bias)\n",
        "cnn_bengali_hi.conv_2.weight.data.copy_(best_model_hindi.conv_2.weight)\n",
        "cnn_bengali_hi.fc.bias.data.copy_(best_model_hindi.fc.bias)\n",
        "cnn_bengali_hi.fc.weight.data.copy_(best_model_hindi.fc.weight)"
      ],
      "execution_count": 57,
      "outputs": [
        {
          "output_type": "execute_result",
          "data": {
            "text/plain": [
              "tensor([[-0.0246,  0.1665, -0.1480,  0.0858, -0.0544,  0.1417,  0.1312,  0.0941,\n",
              "          0.1105,  0.1446,  0.1603,  0.0203, -0.0794, -0.1147, -0.0907, -0.0124,\n",
              "         -0.0849, -0.1028, -0.0482, -0.0908, -0.0104, -0.1294, -0.1138, -0.0117,\n",
              "          0.0564,  0.0133, -0.1201, -0.0994, -0.1374,  0.1542, -0.0750,  0.0461,\n",
              "          0.0078,  0.0822, -0.1049, -0.0809,  0.0825, -0.1768, -0.1036, -0.0358,\n",
              "         -0.0962, -0.1072, -0.0837,  0.1338,  0.0695, -0.0278,  0.0170,  0.1607,\n",
              "         -0.0528, -0.0527, -0.0366,  0.0368, -0.1163,  0.0146, -0.0383, -0.1148,\n",
              "         -0.1422,  0.1738,  0.1161, -0.0016,  0.0097,  0.0016,  0.0235, -0.1034,\n",
              "          0.1634, -0.0020,  0.0103, -0.0839,  0.0305,  0.0813,  0.0066, -0.0863,\n",
              "         -0.0566, -0.0920, -0.0183,  0.1645,  0.1635, -0.0223, -0.0879,  0.1196,\n",
              "         -0.1265,  0.1110,  0.0317,  0.1723, -0.1437,  0.0832, -0.0872,  0.0929,\n",
              "         -0.1523,  0.0616,  0.0822,  0.1467, -0.1058, -0.0750,  0.0314, -0.1128,\n",
              "         -0.0087, -0.1131,  0.1326, -0.0853, -0.1812,  0.0653,  0.0364, -0.0647,\n",
              "          0.1657]], device='cuda:0', dtype=torch.float64,\n",
              "       grad_fn=<CopyBackwards>)"
            ]
          },
          "metadata": {
            "tags": []
          },
          "execution_count": 57
        }
      ]
    },
    {
      "cell_type": "markdown",
      "metadata": {
        "id": "DGC32fQGXtH3"
      },
      "source": [
        "#### Accuracy of Sentiment classifier while Bengali embedding is used"
      ]
    },
    {
      "cell_type": "code",
      "metadata": {
        "colab": {
          "base_uri": "https://localhost:8080/"
        },
        "id": "5bbhrqHePtuS",
        "outputId": "7c916e07-4884-40ec-9860-02397ad64af2"
      },
      "source": [
        "cnn_bengali_hi.eval()\n",
        "test_acc_on_bengali_test_data, precision, recall, f1_score = evaluate_sentiment_classifier(cnn_bengali_hi, testloader)\n",
        "print(f'Binary sentiment classification for Bengali test dataset with Hindi model: {test_acc_on_bengali_test_data*100:.2f}%')\n",
        "print(f'Precision for Bengali test dataset with Hindi model: {precision*100:.2f}%')\n",
        "print(f'Recall for Bengali test dataset with Hindi model: {recall*100:.2f}%')\n",
        "print(f'F1 score for Bengali test dataset with Hindi model: {f1_score*100:.2f}%')"
      ],
      "execution_count": 58,
      "outputs": [
        {
          "output_type": "stream",
          "text": [
            "Binary sentiment classification for Bengali test dataset with Hindi model: 49.53%\n",
            "Precision for Bengali test dataset with Hindi model: 43.95%\n",
            "Recall for Bengali test dataset with Hindi model: 29.97%\n",
            "F1 score for Bengali test dataset with Hindi model: 35.64%\n"
          ],
          "name": "stdout"
        }
      ]
    },
    {
      "cell_type": "markdown",
      "metadata": {
        "id": "J75Q60GC3meQ"
      },
      "source": [
        "The accuracy is less than 0.5 meaning that the model performed worse than random predicting, but that is what we expected to happen. \n",
        "\n",
        "We would expect the model to perform better if at least the word embeddings of Bengali text would be approximetely equal to the ones of Hindi text. The probability of this situation is extremely low at least due to the weight space symmetry or different contextual probabilities of the words of 2 different languages. "
      ]
    },
    {
      "cell_type": "markdown",
      "metadata": {
        "id": "553JntRnfotP"
      },
      "source": [
        "## Task 3d) Retrain model with Bengali data"
      ]
    },
    {
      "cell_type": "markdown",
      "metadata": {
        "id": "BX-LPpDw8nAt"
      },
      "source": [
        "#### Define optimizer and criterion for sentiment analysis retraining"
      ]
    },
    {
      "cell_type": "code",
      "metadata": {
        "id": "V9ZGbqfClvkJ"
      },
      "source": [
        "optimizer = optim.Adam(cnn_bengali_hi.parameters())\n",
        "\n",
        "criterion = nn.BCEWithLogitsLoss()"
      ],
      "execution_count": 59,
      "outputs": []
    },
    {
      "cell_type": "markdown",
      "metadata": {
        "id": "4eBM0vCGhUvh"
      },
      "source": [
        "#### Retrain CNN on Bengali data "
      ]
    },
    {
      "cell_type": "code",
      "metadata": {
        "id": "rlbnM1QL3Iqf"
      },
      "source": [
        "# Keep it False unless you want to train the models\n",
        "\n",
        "train_models = False"
      ],
      "execution_count": 61,
      "outputs": []
    },
    {
      "cell_type": "code",
      "metadata": {
        "colab": {
          "base_uri": "https://localhost:8080/"
        },
        "id": "bMntW_24QJBa",
        "outputId": "c25de5b2-10da-476e-c41d-9849432f17bb"
      },
      "source": [
        "if train_models:\n",
        "  N_EPOCHS = 10\n",
        "  best_valid_loss = float('inf') #Initially sets to infinity\n",
        "  cnn_bengali_hi.train()\n",
        "\n",
        "  # Keeping loss and accuracy history of epochs for visualiztion\n",
        "  train_loss_history = []\n",
        "  train_acc_history = []\n",
        "  val_loss_history = []\n",
        "  val_acc_history = []\n",
        "\n",
        "  # Counter for Early stopping. Stops if no better loss for validation is achieved in 4 consecutive epochs.\n",
        "  stop_criterion = 0\n",
        "\n",
        "  for epoch in range(N_EPOCHS):\n",
        "      #start time of the epoch\n",
        "      start_time = time.time()\n",
        "      \n",
        "      train_loss, train_acc = train_cnn(cnn_bengali_hi, trainloader, optimizer, criterion)\n",
        "      valid_loss, valid_acc = evaluate_cnn(cnn_bengali_hi, valloader, criterion)\n",
        "      train_loss_history.append(train_loss)\n",
        "      train_acc_history.append(train_acc)\n",
        "      val_loss_history.append(valid_loss)\n",
        "      val_acc_history.append(valid_acc)\n",
        "\n",
        "      #End time\n",
        "      end_time = time.time()\n",
        "      # calculate elapsed time in mins and seconds\n",
        "      required_time = end_time - start_time\n",
        "      mins = int(required_time / 60)\n",
        "      secs = int(required_time - (mins * 60))\n",
        "      \n",
        "      stop_criterion += 1\n",
        "\n",
        "      #Saving the best model\n",
        "      if valid_loss < best_valid_loss:\n",
        "          best_valid_loss = valid_loss\n",
        "          torch.save(cnn_bengali_hi.state_dict(), 'cnn_hindi_retrained_on_bengali-model.pt')\n",
        "          stop_criterion = 0\n",
        "          best_cnn_bengali_hi = copy.deepcopy(cnn_bengali_hi)\n",
        "\n",
        "      print(f'Epoch: {epoch+1:02} | Epoch Time: {mins}m {secs}s')\n",
        "      print(f'\\tTrain Loss: {train_loss:.3f} | Train Acc: {train_acc*100:.2f}%')\n",
        "      print(f'\\t Val. Loss: {valid_loss:.3f} |  Val. Acc: {valid_acc*100:.2f}%')\n",
        "\n",
        "      if stop_criterion == 4:\n",
        "        print('Early stopping')\n",
        "        break\n",
        "else:\n",
        "  cnn_bengali_hi.load_state_dict(torch.load('cnn_hindi_retrained_on_bengali-model.pt'))\n",
        "  best_cnn_bengali_hi = cnn_bengali_hi "
      ],
      "execution_count": 62,
      "outputs": [
        {
          "output_type": "stream",
          "text": [
            "Epoch: 01 | Epoch Time: 1m 24s\n",
            "\tTrain Loss: 0.428 | Train Acc: 79.00%\n",
            "\t Val. Loss: 0.618 |  Val. Acc: 76.52%\n",
            "Epoch: 02 | Epoch Time: 1m 24s\n",
            "\tTrain Loss: 0.241 | Train Acc: 90.04%\n",
            "\t Val. Loss: 0.666 |  Val. Acc: 77.36%\n",
            "Epoch: 03 | Epoch Time: 1m 24s\n",
            "\tTrain Loss: 0.167 | Train Acc: 92.90%\n",
            "\t Val. Loss: 0.671 |  Val. Acc: 80.09%\n",
            "Epoch: 04 | Epoch Time: 1m 24s\n",
            "\tTrain Loss: 0.122 | Train Acc: 95.20%\n",
            "\t Val. Loss: 0.803 |  Val. Acc: 78.83%\n",
            "Epoch: 05 | Epoch Time: 1m 24s\n",
            "\tTrain Loss: 0.091 | Train Acc: 96.42%\n",
            "\t Val. Loss: 0.853 |  Val. Acc: 79.68%\n",
            "Early stopping\n"
          ],
          "name": "stdout"
        }
      ]
    },
    {
      "cell_type": "markdown",
      "metadata": {
        "id": "KnHMWcaVH9qe"
      },
      "source": [
        "#### Visualize Loss and Accuracy for the model with Bengali dataset after retraining"
      ]
    },
    {
      "cell_type": "code",
      "metadata": {
        "colab": {
          "base_uri": "https://localhost:8080/",
          "height": 295
        },
        "id": "LVbKKZBMh-2p",
        "outputId": "767260e6-5281-4c7b-8cb9-8f65bccf7e6d"
      },
      "source": [
        "# Don't run this unless you trained the models\n",
        "\n",
        "if train_models:\n",
        "  epoch_count = list(range(1, len(train_acc_history)+1))\n",
        "  x1 = epoch_count\n",
        "  x2 = epoch_count\n",
        "  y1_train = train_loss_history\n",
        "  y1_val = val_loss_history\n",
        "  y2_train = train_acc_history\n",
        "  y2_val = val_acc_history\n",
        "\n",
        "  fig, axes = plt.subplots(nrows=1, ncols=2, figsize=(12,4))\n",
        "  axes[0].plot(x1, y1_train, 'r--')\n",
        "  axes[0].plot(x1, y1_val, 'b--')\n",
        "  axes[0].legend(['Training Loss', 'Validation Loss'])\n",
        "  axes[0].set(xlabel='Epoch', ylabel='Loss')\n",
        "  axes[0].set_title('Bengali CNN loss that is retrained with Bengali data Batch#16')\n",
        "  axes[1].plot(x1, y2_train, 'r--')\n",
        "  axes[1].plot(x1, y2_val, 'b--')\n",
        "  axes[1].legend(['Training Accuracy', 'Validation Accuracy'])\n",
        "  axes[1].set(xlabel='Epoch', ylabel='Accuracy')\n",
        "  axes[1].set_title('Bengali CNN accuracy that is retrained with Bengali data Batch#16')\n",
        "  plt.savefig('bengali_cnn_after_retrained_batch#16.png')"
      ],
      "execution_count": null,
      "outputs": [
        {
          "output_type": "display_data",
          "data": {
            "image/png": "[encoded data removed]",
            "text/plain": [
              "<Figure size 864x288 with 2 Axes>"
            ]
          },
          "metadata": {
            "tags": [],
            "needs_background": "light"
          }
        }
      ]
    },
    {
      "cell_type": "markdown",
      "metadata": {
        "id": "oiECLUYO5zZ9"
      },
      "source": [
        "We see that the accuracy improved a lot and became approximately equal to the one of Hindi model."
      ]
    },
    {
      "cell_type": "markdown",
      "metadata": {
        "id": "crhmKqKnws0t"
      },
      "source": [
        "#### Evaluation on bengali test dataset of Sentiment classifier after retraining with bengali Embedding"
      ]
    },
    {
      "cell_type": "code",
      "metadata": {
        "id": "m65ARtQEoko-",
        "colab": {
          "base_uri": "https://localhost:8080/"
        },
        "outputId": "16e9ed6c-21b3-4984-b6bb-dc51f2019680"
      },
      "source": [
        "cnn_bengali_hi.eval()\n",
        "test_acc_on_bengali_test_data_retrained, precision, recall, f1_score = evaluate_sentiment_classifier(best_cnn_bengali_hi, testloader)\n",
        "print(f'Binary sentiment classification for Bengali test dataset after retraining: {test_acc_on_bengali_test_data_retrained*100:.2f}%')\n",
        "print(f'Precision for Bengali test dataset after retraining: {precision*100:.2f}%')\n",
        "print(f'Recall for Bengali test dataset after retraining: {recall*100:.2f}%')\n",
        "print(f'F1 score for Bengali test dataset after retraining: {f1_score*100:.2f}%')"
      ],
      "execution_count": 63,
      "outputs": [
        {
          "output_type": "stream",
          "text": [
            "Binary sentiment classification for Bengali test dataset after retraining: 77.21%\n",
            "Precision for Bengali test dataset after retraining: 81.27%\n",
            "Recall for Bengali test dataset after retraining: 66.36%\n",
            "F1 score for Bengali test dataset after retraining: 73.06%\n"
          ],
          "name": "stdout"
        }
      ]
    }
  ]
}