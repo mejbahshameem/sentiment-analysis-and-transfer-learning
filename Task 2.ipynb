{
  "nbformat": 4,
  "nbformat_minor": 0,
  "metadata": {
    "accelerator": "GPU",
    "colab": {
      "name": "task2-final.ipynb",
      "provenance": [],
      "collapsed_sections": [],
      "toc_visible": true,
      "include_colab_link": true
    },
    "kernelspec": {
      "display_name": "Python 3",
      "name": "python3"
    }
  },
  "cells": [
    {
      "cell_type": "markdown",
      "metadata": {
        "id": "view-in-github",
        "colab_type": "text"
      },
      "source": [
        "<a href=\"https://colab.research.google.com/github/heshumi/NNTI-WS2021-NLP-Project/blob/main/Task%202.ipynb\" target=\"_parent\"><img src=\"https://colab.research.google.com/assets/colab-badge.svg\" alt=\"Open In Colab\"/></a>"
      ]
    },
    {
      "cell_type": "markdown",
      "metadata": {
        "id": "vJoff6KegGK_"
      },
      "source": [
        "## Task 2a) Binary neural sentiment classifier for Hindi dataset using pretrained Hindi word2vec model trained from task 1.\n",
        "\n",
        "**Note:** keep/upload the folowing files in the runtime before executing the notebook. \n",
        "`hindi_dataset.tsv`, `bengali_hatespeech.csv`, `bengali_hatespeech_sampled.csv`, `stopwords-bn.txt`, `stopwords-en.txt`, `stopwords-hi.txt`, `Word2Vec-hindi.model`, `Word2Vec-bg.model`, `task2_utils.py`. Note that,\n",
        "`task2_utils.py` contains all the necessary classes and functions that are required in this task 2 and those are separated as per the general guidlines of the project handout."
      ]
    },
    {
      "cell_type": "markdown",
      "metadata": {
        "id": "S55mfENxGNOJ"
      },
      "source": [
        "#### Importing the packages"
      ]
    },
    {
      "cell_type": "code",
      "metadata": {
        "id": "Zgc9KSPrcnCH"
      },
      "source": [
        "# Imports\n",
        "import pandas as pd\n",
        "import numpy as np\n",
        "from math import sqrt\n",
        "import random\n",
        "import time\n",
        "import copy\n",
        "import string\n",
        "import torch.nn as nn\n",
        "import torch                                                                                                                                                                                                                                                                                                                                                                            \n",
        "import torch.optim as optim\n",
        "import torch.nn.functional as F\n",
        "from torch.utils.data import Dataset, DataLoader, TensorDataset\n",
        "import matplotlib.pyplot as plt\n",
        "from task2_utils import * #separate .py file for functions and classes as instructed"
      ],
      "execution_count": null,
      "outputs": []
    },
    {
      "cell_type": "markdown",
      "metadata": {
        "id": "8GoTEhb8GUjf"
      },
      "source": [
        "#### Reading Hindi dataset for sentiment classification. Word2vec model for Hindi dataset is already trained in task 1 and will be loaded in a further cell. "
      ]
    },
    {
      "cell_type": "code",
      "metadata": {
        "colab": {
          "base_uri": "https://localhost:8080/",
          "height": 198
        },
        "id": "H5vjly3Dc7rD",
        "outputId": "c3227149-fd52-424e-f9e7-b8880a446e6e"
      },
      "source": [
        "data_hindi = pd.read_csv('hindi_dataset.tsv', sep='\\t', usecols=['text', 'task_1'])\n",
        "dev_hindi = data_hindi\n",
        "dev_hindi.head()"
      ],
      "execution_count": null,
      "outputs": [
        {
          "output_type": "execute_result",
          "data": {
            "text/html": [
              "<div>\n",
              "<style scoped>\n",
              "    .dataframe tbody tr th:only-of-type {\n",
              "        vertical-align: middle;\n",
              "    }\n",
              "\n",
              "    .dataframe tbody tr th {\n",
              "        vertical-align: top;\n",
              "    }\n",
              "\n",
              "    .dataframe thead th {\n",
              "        text-align: right;\n",
              "    }\n",
              "</style>\n",
              "<table border=\"1\" class=\"dataframe\">\n",
              "  <thead>\n",
              "    <tr style=\"text-align: right;\">\n",
              "      <th></th>\n",
              "      <th>text</th>\n",
              "      <th>task_1</th>\n",
              "    </tr>\n",
              "  </thead>\n",
              "  <tbody>\n",
              "    <tr>\n",
              "      <th>0</th>\n",
              "      <td>बांग्लादेश की शानदार वापसी, भारत को 314 रन पर ...</td>\n",
              "      <td>NOT</td>\n",
              "    </tr>\n",
              "    <tr>\n",
              "      <th>1</th>\n",
              "      <td>सब रंडी नाच देखने मे व्यस्त जैसे ही कोई #शांती...</td>\n",
              "      <td>HOF</td>\n",
              "    </tr>\n",
              "    <tr>\n",
              "      <th>2</th>\n",
              "      <td>तुम जैसे हरामियों के लिए बस जूतों की कमी है शु...</td>\n",
              "      <td>HOF</td>\n",
              "    </tr>\n",
              "    <tr>\n",
              "      <th>3</th>\n",
              "      <td>बीजेपी MLA आकाश विजयवर्गीय जेल से रिहा, जमानत ...</td>\n",
              "      <td>NOT</td>\n",
              "    </tr>\n",
              "    <tr>\n",
              "      <th>4</th>\n",
              "      <td>चमकी बुखार: विधानसभा परिसर में आरजेडी का प्रदर...</td>\n",
              "      <td>NOT</td>\n",
              "    </tr>\n",
              "  </tbody>\n",
              "</table>\n",
              "</div>"
            ],
            "text/plain": [
              "                                                text task_1\n",
              "0  बांग्लादेश की शानदार वापसी, भारत को 314 रन पर ...    NOT\n",
              "1  सब रंडी नाच देखने मे व्यस्त जैसे ही कोई #शांती...    HOF\n",
              "2  तुम जैसे हरामियों के लिए बस जूतों की कमी है शु...    HOF\n",
              "3  बीजेपी MLA आकाश विजयवर्गीय जेल से रिहा, जमानत ...    NOT\n",
              "4  चमकी बुखार: विधानसभा परिसर में आरजेडी का प्रदर...    NOT"
            ]
          },
          "metadata": {
            "tags": []
          },
          "execution_count": 93
        }
      ]
    },
    {
      "cell_type": "markdown",
      "metadata": {
        "id": "pL-KWdcCGrW3"
      },
      "source": [
        "#### Preprocess the dataset. Here we remove the punctuations, stopwords and other non-influential words and symbols like 'http' and '@' from the beginning of a word and make word list candidates from the sentences. "
      ]
    },
    {
      "cell_type": "code",
      "metadata": {
        "colab": {
          "base_uri": "https://localhost:8080/"
        },
        "id": "r4L-rIvUdH8l",
        "outputId": "3bc96f64-0e36-4ea7-e4d6-b4317c13fe9b"
      },
      "source": [
        "with open('stopwords-hi.txt', 'r') as f:\n",
        "  stopwords_hi = set(f.read().split())\n",
        "\n",
        "punct = ':;?!-—-\\\"\\'|।()[]{},./\\\\“'\n",
        "dev_hindi['text'] = dev_hindi['text'].apply(lambda x: preprocess(x, punct, stopwords_hi))\n",
        "dev_hindi['text'][:5]"
      ],
      "execution_count": null,
      "outputs": [
        {
          "output_type": "execute_result",
          "data": {
            "text/plain": [
              "0    [बांग्लादेश, शानदार, वापसी, भारत, 314, रोका, #...\n",
              "1    [रंडी, नाच, देखने, व्यस्त, #शांतीदूत, होगा, #र...\n",
              "2    [तुम, हरामियों, जूतों, कमी, शुक्र, तुम्हारी, ल...\n",
              "3    [बीजेपी, mla, आकाश, विजयवर्गीय, जेल, रिहा, जमा...\n",
              "4    [चमकी, बुखार, विधानसभा, परिसर, आरजेडी, प्रदर्श...\n",
              "Name: text, dtype: object"
            ]
          },
          "metadata": {
            "tags": []
          },
          "execution_count": 94
        }
      ]
    },
    {
      "cell_type": "markdown",
      "metadata": {
        "id": "7Wu2DZvGH8IH"
      },
      "source": [
        "#### Build the vocabulary avaialable in the dataset"
      ]
    },
    {
      "cell_type": "code",
      "metadata": {
        "colab": {
          "base_uri": "https://localhost:8080/"
        },
        "id": "NbAl-QjSdMfr",
        "outputId": "72684669-2f88-46a8-b292-aa95d8e500d2"
      },
      "source": [
        "hindi_V = build_vocab(dev_hindi)\n",
        "summ = sum(hindi_V.values())\n",
        "len(hindi_V)"
      ],
      "execution_count": null,
      "outputs": [
        {
          "output_type": "execute_result",
          "data": {
            "text/plain": [
              "19356"
            ]
          },
          "metadata": {
            "tags": []
          },
          "execution_count": 95
        }
      ]
    },
    {
      "cell_type": "markdown",
      "metadata": {
        "id": "GkMa5dsEIE_W"
      },
      "source": [
        "#### Developing a dictionary that represents the one hot encoding of the words in the vocabulary"
      ]
    },
    {
      "cell_type": "code",
      "metadata": {
        "id": "6Jz0aynNdO7b"
      },
      "source": [
        "pad = 1\n",
        "onehot_dict_hindi= build_onehot(hindi_V, pad)"
      ],
      "execution_count": null,
      "outputs": []
    },
    {
      "cell_type": "code",
      "metadata": {
        "colab": {
          "base_uri": "https://localhost:8080/"
        },
        "id": "QdG_SeN_mkn8",
        "outputId": "b2bac588-8ec5-45b6-ee11-b1543e2e5724"
      },
      "source": [
        "# print one hot of padding\n",
        "print(onehot_dict_hindi[' '])"
      ],
      "execution_count": null,
      "outputs": [
        {
          "output_type": "stream",
          "text": [
            "[0. 0. 0. ... 0. 0. 1.]\n"
          ],
          "name": "stdout"
        }
      ]
    },
    {
      "cell_type": "markdown",
      "metadata": {
        "id": "A_95wHa1IUhe"
      },
      "source": [
        "#### Getting the insigths of the sentences in sense of the number of words in a sentence. "
      ]
    },
    {
      "cell_type": "code",
      "metadata": {
        "colab": {
          "base_uri": "https://localhost:8080/",
          "height": 432
        },
        "id": "HgqbFi99dUqj",
        "outputId": "9e209257-1bdc-4883-ffc7-37370f78a2d1"
      },
      "source": [
        "text_len = [len(x) for x in dev_hindi['text']]\n",
        "ax = pd.Series(text_len).hist()\n",
        "fig = ax.get_figure()\n",
        "fig.savefig('Hindi_dataset_histogram.png')\n",
        "pd.Series(text_len).describe()"
      ],
      "execution_count": null,
      "outputs": [
        {
          "output_type": "execute_result",
          "data": {
            "text/plain": [
              "count    4665.000000\n",
              "mean       16.403859\n",
              "std         8.855921\n",
              "min         0.000000\n",
              "25%         9.000000\n",
              "50%        15.000000\n",
              "75%        23.000000\n",
              "max        61.000000\n",
              "dtype: float64"
            ]
          },
          "metadata": {
            "tags": []
          },
          "execution_count": 98
        },
        {
          "output_type": "display_data",
          "data": {
            "image/png": "[encoded data removed]",
            "text/plain": [
              "<Figure size 432x288 with 1 Axes>"
            ]
          },
          "metadata": {
            "tags": [],
            "needs_background": "light"
          }
        }
      ]
    },
    {
      "cell_type": "markdown",
      "metadata": {
        "id": "JCdvsYNSxU_I"
      },
      "source": [
        "#### From the Histogram above we see that 75% of the sentences are covered with 23 being the size of the words in sentences. We select 35 as the maximum number of words in a sentence considering factor like outliers."
      ]
    },
    {
      "cell_type": "markdown",
      "metadata": {
        "id": "4Abnnir1JTRX"
      },
      "source": [
        "#### Set the hyperparameters for Sentiment classification of Hindi Dataset"
      ]
    },
    {
      "cell_type": "code",
      "metadata": {
        "id": "LWSCJgQ0yEU3"
      },
      "source": [
        "# Set hyperparameters\n",
        "batch_size = 64\n",
        "min_sen_length=35\n",
        "epochs = 10\n",
        "embedding_size = 300\n",
        "input_size = len(hindi_V) #For embedding \n"
      ],
      "execution_count": null,
      "outputs": []
    },
    {
      "cell_type": "markdown",
      "metadata": {
        "id": "f80Q7-jpxR2S"
      },
      "source": [
        "#### Then we create a custom Hindi dataset and data loader to train the binary classifier"
      ]
    },
    {
      "cell_type": "code",
      "metadata": {
        "id": "VNN7X7sQx4hb"
      },
      "source": [
        "dataset_hindi = MyDataset(dev_hindi, min_sen_length, onehot_dict_hindi)"
      ],
      "execution_count": null,
      "outputs": []
    },
    {
      "cell_type": "markdown",
      "metadata": {
        "id": "6H10YI0HZf5q"
      },
      "source": [
        "#### Split dataset to train, validation and test set and define Data loader for Hindi dataset"
      ]
    },
    {
      "cell_type": "code",
      "metadata": {
        "colab": {
          "base_uri": "https://localhost:8080/"
        },
        "id": "vo7C8UKwZStq",
        "outputId": "45002935-0834-4786-a6a5-13b2916c3dfa"
      },
      "source": [
        "train_size, val_size, test_size = int(0.7 * len(dataset_hindi)), int(0.15 * len(dataset_hindi)+1), int(0.15 * len(dataset_hindi)+1)\n",
        "train_dataset, val_dataset, test_dataset = torch.utils.data.random_split(dataset_hindi, [train_size, val_size, test_size])\n",
        "trainloader_hindi = DataLoader(train_dataset, batch_size= batch_size, shuffle = False, num_workers=0)\n",
        "valloader_hindi = DataLoader(val_dataset, batch_size= batch_size, shuffle = False, num_workers=0)\n",
        "testloader_hindi = DataLoader(test_dataset, batch_size= batch_size, shuffle = False, num_workers=0)\n",
        "i1, l1 = next(iter(trainloader_hindi))\n",
        "print(i1.shape)"
      ],
      "execution_count": null,
      "outputs": [
        {
          "output_type": "stream",
          "text": [
            "torch.Size([64, 35, 19357])\n"
          ],
          "name": "stdout"
        }
      ]
    },
    {
      "cell_type": "markdown",
      "metadata": {
        "id": "hOJNK2r0dzG5"
      },
      "source": [
        "#### Create same Word2Vec model architecture as defined in task 1. We are not gonna train the Word2Vec model again rather will load the Hindi Word2Vec model as instructed in the next cell. "
      ]
    },
    {
      "cell_type": "code",
      "metadata": {
        "id": "RtawnFPqcX6h"
      },
      "source": [
        "word2vec_model = Word2Vec(input_size, embedding_size)  "
      ],
      "execution_count": null,
      "outputs": []
    },
    {
      "cell_type": "markdown",
      "metadata": {
        "id": "Rvx_vnBaMZGO"
      },
      "source": [
        "#### Load the pretrained word2vec model. Also, add a new column to the first hidden layer for allwoing weights of padding. (Please make sure the pretrained model from task 1 'word2vec_model' is avaialable in the runtime)"
      ]
    },
    {
      "cell_type": "code",
      "metadata": {
        "id": "mIFW0QHX4Tiw"
      },
      "source": [
        "# word2vec_model.cuda()\n",
        "word2vec_model.load_state_dict(torch.load('/content/Word2Vec-hindi.model',  map_location='cpu'))\n",
        "word2vec_model.eval()\n",
        "\n",
        "# Add a column to the first hidden layer matrix of the word2vec model for the padding embedding.\n",
        "embeddings = torch.cat((word2vec_model.fc1.weight.detach(), torch.zeros(embedding_size).unsqueeze(1)), dim = 1) # init the padding embedding by zeros\n",
        "biases = word2vec_model.fc1.bias.detach()"
      ],
      "execution_count": null,
      "outputs": []
    },
    {
      "cell_type": "code",
      "metadata": {
        "colab": {
          "base_uri": "https://localhost:8080/"
        },
        "id": "CNWV_RHiAXZ3",
        "outputId": "4c5de98e-ded0-469a-bd54-89a96bafd6f3"
      },
      "source": [
        "embeddings.shape"
      ],
      "execution_count": null,
      "outputs": [
        {
          "output_type": "execute_result",
          "data": {
            "text/plain": [
              "torch.Size([300, 19357])"
            ]
          },
          "metadata": {
            "tags": []
          },
          "execution_count": 104
        }
      ]
    },
    {
      "cell_type": "markdown",
      "metadata": {
        "id": "T1LXnDp4NCIN"
      },
      "source": [
        "#### Set more hyperparameters to train binary sentiment classifier"
      ]
    },
    {
      "cell_type": "code",
      "metadata": {
        "id": "aEzMu-N_g6i2"
      },
      "source": [
        "n_filters = 35\n",
        "filter_sizes = [8,5,3]\n",
        "output_dim = 1\n",
        "dropout = 0.5\n",
        "N_EPOCHS = 50 #with early stopping"
      ],
      "execution_count": null,
      "outputs": []
    },
    {
      "cell_type": "markdown",
      "metadata": {
        "id": "w0ilEqsBQVvH"
      },
      "source": [
        "#### Convolution based model architecture for Hindi sentiment classification"
      ]
    },
    {
      "cell_type": "markdown",
      "metadata": {
        "id": "g6IrwXroSpjF"
      },
      "source": [
        "#### Create CNN model instance by importing CNN_HINDI defined in task2_utils file."
      ]
    },
    {
      "cell_type": "code",
      "metadata": {
        "colab": {
          "base_uri": "https://localhost:8080/"
        },
        "id": "5peQSsd0S4HE",
        "outputId": "dd6e0e8b-6d0e-49a3-e4ad-adb8c935ce40"
      },
      "source": [
        "cnn = CNN_HINDI(input_size, embedding_size, n_filters, filter_sizes, output_dim, dropout)\n",
        "cnn.double()"
      ],
      "execution_count": null,
      "outputs": [
        {
          "output_type": "execute_result",
          "data": {
            "text/plain": [
              "CNN_HINDI(\n",
              "  (embedding): Linear(in_features=19357, out_features=300, bias=True)\n",
              "  (conv_0): Conv2d(1, 35, kernel_size=(8, 300), stride=(1, 1))\n",
              "  (conv_1): Conv2d(1, 35, kernel_size=(5, 300), stride=(1, 1))\n",
              "  (conv_2): Conv2d(1, 35, kernel_size=(3, 300), stride=(1, 1))\n",
              "  (fc): Linear(in_features=105, out_features=1, bias=True)\n",
              "  (dropout): Dropout(p=0.5, inplace=False)\n",
              ")"
            ]
          },
          "metadata": {
            "tags": []
          },
          "execution_count": 106
        }
      ]
    },
    {
      "cell_type": "markdown",
      "metadata": {
        "id": "2ZjVqRcvSt_u"
      },
      "source": [
        "#### Copy the pre-trained embeddings weights and biases as the Hindi CNN model's embedding layer"
      ]
    },
    {
      "cell_type": "code",
      "metadata": {
        "colab": {
          "base_uri": "https://localhost:8080/"
        },
        "id": "qMpcuZGldJwT",
        "outputId": "1a3a00fd-2c54-44da-b7e3-06522a8b3b10"
      },
      "source": [
        "cnn.embedding.bias.data.copy_(biases)\n",
        "cnn.embedding.weight.data.copy_(embeddings)"
      ],
      "execution_count": null,
      "outputs": [
        {
          "output_type": "execute_result",
          "data": {
            "text/plain": [
              "tensor([[ -6.2279,  -2.2322,  -6.3548,  ...,   0.6193,   6.5156,   0.0000],\n",
              "        [-12.7375, -10.8961,   1.2383,  ...,   2.8030,  13.6377,   0.0000],\n",
              "        [ -7.9884, -32.7764, -14.5382,  ..., -18.0882, -19.6158,   0.0000],\n",
              "        ...,\n",
              "        [ -2.6832,  -0.8967,   1.0232,  ...,   0.6459,   0.0771,   0.0000],\n",
              "        [ -6.4597,  -6.6789,  -6.1366,  ...,   9.5053,  -5.5762,   0.0000],\n",
              "        [ -7.6579,  -5.1581,  -2.7021,  ...,  -1.4723,   4.6150,   0.0000]],\n",
              "       dtype=torch.float64)"
            ]
          },
          "metadata": {
            "tags": []
          },
          "execution_count": 107
        }
      ]
    },
    {
      "cell_type": "markdown",
      "metadata": {
        "id": "g62JLXxITEbN"
      },
      "source": [
        "#### Define optimizer and criterion for sentiment classification training"
      ]
    },
    {
      "cell_type": "code",
      "metadata": {
        "id": "EaxF-NwYnEHR"
      },
      "source": [
        "optimizer = optim.Adam(cnn.parameters())\n",
        "\n",
        "criterion = nn.BCEWithLogitsLoss()\n"
      ],
      "execution_count": null,
      "outputs": []
    },
    {
      "cell_type": "markdown",
      "metadata": {
        "id": "ukQX0dynUjn2"
      },
      "source": [
        "#### Training the binary sentiment classification model"
      ]
    },
    {
      "cell_type": "code",
      "metadata": {
        "colab": {
          "base_uri": "https://localhost:8080/"
        },
        "id": "ZCKBNczrthZs",
        "outputId": "78bee0da-d025-4927-debc-801b26bc7a97"
      },
      "source": [
        "# Keeping loss and accuracy history of epochs for visualiztion\n",
        "train_loss_history = []\n",
        "train_acc_history = []\n",
        "val_loss_history = []\n",
        "val_acc_history = []\n",
        "\n",
        "# Counter for Early stopping. Stops if no better loss for validation is achieved in 4 consecutive epochs.\n",
        "stop_criterion = 0\n",
        "best_valid_loss = float('inf') #Initially sets to infinity\n",
        "\n",
        "for epoch in range(N_EPOCHS):\n",
        "    #start time of the epoch\n",
        "    start_time = time.time()\n",
        "    \n",
        "    train_loss, train_acc = train_cnn(cnn, trainloader_hindi, optimizer, criterion)\n",
        "    valid_loss, valid_acc = evaluate_cnn(cnn, valloader_hindi, criterion)\n",
        "    train_loss_history.append(train_loss)\n",
        "    train_acc_history.append(train_acc)\n",
        "    val_loss_history.append(valid_loss)\n",
        "    val_acc_history.append(valid_acc)\n",
        "\n",
        "    #End time\n",
        "    end_time = time.time()\n",
        "    # calculate elapsed time in mins and seconds\n",
        "    required_time = end_time - start_time\n",
        "    mins = int(required_time / 60)\n",
        "    secs = int(required_time - (mins * 60))\n",
        "    \n",
        "    stop_criterion += 1\n",
        "    \n",
        "    #Saving the best model\n",
        "    if valid_loss < best_valid_loss:\n",
        "        best_valid_loss = valid_loss\n",
        "        torch.save(cnn.state_dict(), 'cnn_hindi_model.pt')\n",
        "        best_model_hindi = copy.deepcopy(cnn)\n",
        "        stop_criterion = 0\n",
        "    \n",
        "    print(f'Epoch: {epoch+1:02} | Epoch Time: {mins}m {secs}s')\n",
        "    print(f'\\tTrain Loss: {train_loss:.3f} | Train Acc: {train_acc*100:.2f}%')\n",
        "    print(f'\\t Val. Loss: {valid_loss:.3f} |  Val. Acc: {valid_acc*100:.2f}%')\n",
        "\n",
        "    if stop_criterion == 4:\n",
        "      break"
      ],
      "execution_count": null,
      "outputs": [
        {
          "output_type": "stream",
          "text": [
            "Epoch: 01 | Epoch Time: 1m 43s\n",
            "\tTrain Loss: 3.712 | Train Acc: 57.33%\n",
            "\t Val. Loss: 0.574 |  Val. Acc: 69.61%\n",
            "Epoch: 02 | Epoch Time: 1m 43s\n",
            "\tTrain Loss: 0.607 | Train Acc: 64.66%\n",
            "\t Val. Loss: 0.541 |  Val. Acc: 72.60%\n",
            "Epoch: 03 | Epoch Time: 1m 45s\n",
            "\tTrain Loss: 0.574 | Train Acc: 68.51%\n",
            "\t Val. Loss: 0.548 |  Val. Acc: 74.57%\n",
            "Epoch: 04 | Epoch Time: 1m 44s\n",
            "\tTrain Loss: 0.536 | Train Acc: 70.73%\n",
            "\t Val. Loss: 0.509 |  Val. Acc: 75.74%\n",
            "Epoch: 05 | Epoch Time: 1m 43s\n",
            "\tTrain Loss: 0.508 | Train Acc: 73.35%\n",
            "\t Val. Loss: 0.498 |  Val. Acc: 75.16%\n",
            "Epoch: 06 | Epoch Time: 1m 39s\n",
            "\tTrain Loss: 0.525 | Train Acc: 71.33%\n",
            "\t Val. Loss: 0.491 |  Val. Acc: 74.58%\n",
            "Epoch: 07 | Epoch Time: 1m 37s\n",
            "\tTrain Loss: 0.502 | Train Acc: 74.34%\n",
            "\t Val. Loss: 0.495 |  Val. Acc: 76.41%\n",
            "Epoch: 08 | Epoch Time: 1m 38s\n",
            "\tTrain Loss: 0.491 | Train Acc: 71.81%\n",
            "\t Val. Loss: 0.470 |  Val. Acc: 78.56%\n",
            "Epoch: 09 | Epoch Time: 1m 37s\n",
            "\tTrain Loss: 0.471 | Train Acc: 75.54%\n",
            "\t Val. Loss: 0.457 |  Val. Acc: 77.58%\n",
            "Epoch: 10 | Epoch Time: 1m 37s\n",
            "\tTrain Loss: 0.484 | Train Acc: 73.38%\n",
            "\t Val. Loss: 0.535 |  Val. Acc: 71.53%\n",
            "Epoch: 11 | Epoch Time: 1m 37s\n",
            "\tTrain Loss: 0.472 | Train Acc: 73.35%\n",
            "\t Val. Loss: 0.464 |  Val. Acc: 77.69%\n",
            "Epoch: 12 | Epoch Time: 1m 37s\n",
            "\tTrain Loss: 0.447 | Train Acc: 75.69%\n",
            "\t Val. Loss: 0.473 |  Val. Acc: 77.72%\n",
            "Epoch: 13 | Epoch Time: 1m 37s\n",
            "\tTrain Loss: 0.466 | Train Acc: 73.32%\n",
            "\t Val. Loss: 0.504 |  Val. Acc: 75.11%\n"
          ],
          "name": "stdout"
        }
      ]
    },
    {
      "cell_type": "markdown",
      "metadata": {
        "id": "y-a1RtfwjWbi"
      },
      "source": [
        "#### Visualize Loss and Accuracy for the model"
      ]
    },
    {
      "cell_type": "code",
      "metadata": {
        "colab": {
          "base_uri": "https://localhost:8080/",
          "height": 316
        },
        "id": "swv9iYTnvPbA",
        "outputId": "1993ea3a-619b-4bcb-9bfe-30b680c23724"
      },
      "source": [
        "epoch_count = list(range(1, len(train_loss_history)+1))\n",
        "x1 = epoch_count\n",
        "x2 = epoch_count\n",
        "y1_train = train_loss_history\n",
        "y1_val = val_loss_history\n",
        "y2_train = train_acc_history\n",
        "y2_val = val_acc_history\n",
        "\n",
        "fig, axes = plt.subplots(nrows=1, ncols=2, figsize=(12,4))\n",
        "axes[0].plot(x1, y1_train, 'r--')\n",
        "axes[0].plot(x1, y1_val, 'b--')\n",
        "axes[0].legend(['Training Loss', 'Validation Loss'])\n",
        "axes[0].set(xlabel='Epoch', ylabel='Loss')\n",
        "axes[0].set_title('CNN model loss')\n",
        "axes[1].plot(x1, y2_train, 'r--')\n",
        "axes[1].plot(x1, y2_val, 'b--')\n",
        "axes[1].legend(['Training Accuracy', 'Validation Accuracy'])\n",
        "axes[1].set(xlabel='Epoch', ylabel='Accuracy')\n",
        "axes[1].set_title('CNN model accuracy')\n",
        "fig.suptitle('Hindi sentiment classifier loss and accuracy', y=-0.01)\n",
        "plt.savefig('cnn.png')"
      ],
      "execution_count": null,
      "outputs": [
        {
          "output_type": "display_data",
          "data": {
            "image/png": "[encoded data removed]",
            "text/plain": [
              "<Figure size 864x288 with 2 Axes>"
            ]
          },
          "metadata": {
            "tags": [],
            "needs_background": "light"
          }
        }
      ]
    },
    {
      "cell_type": "markdown",
      "metadata": {
        "id": "Ip8xX3x7akux"
      },
      "source": [
        "#### Evaluate model on test data"
      ]
    },
    {
      "cell_type": "code",
      "metadata": {
        "colab": {
          "base_uri": "https://localhost:8080/"
        },
        "id": "J65RPPoOaj7z",
        "outputId": "22f21286-5af5-417e-8782-1ad348ae20fd"
      },
      "source": [
        "best_model_hindi.eval()\n",
        "test_acc_hindi, precision, recall, f1_score = evaluate_sentiment_classifier(best_model_hindi, testloader_hindi)\n",
        "print(f'Accuracy of Binary sentiment classification for Hindi test dataset: {test_acc_hindi*100:.2f}%')\n",
        "print(f'Precision of Hindi test dataset: {precision*100:.2f}%')\n",
        "print(f'Recall of Hindi test dataset: {recall*100:.2f}%')\n",
        "print(f'F1 score for Hindi test dataset: {f1_score*100:.2f}%')"
      ],
      "execution_count": null,
      "outputs": [
        {
          "output_type": "stream",
          "text": [
            "Accuracy of Binary sentiment classification for Hindi test dataset: 77.59%\n",
            "Precision of Hindi test dataset: 86.54%\n",
            "Recall of Hindi test dataset: 71.46%\n",
            "F1 score for Hindi test dataset: 78.28%\n"
          ],
          "name": "stdout"
        }
      ]
    },
    {
      "cell_type": "markdown",
      "metadata": {
        "id": "yz4CySW3q0zW"
      },
      "source": [
        "## Task 2b) Preprocess Bengali dataset to make Approximately equal size in sense of size and class distribution as Hindi Dataset"
      ]
    },
    {
      "cell_type": "markdown",
      "metadata": {
        "id": "02P8ILCho4dG"
      },
      "source": [
        "**MUST READ**\n",
        "#### If you want to sample bengali dataset, then you have to train the word2vec for Bengali dataset again which requires a lot of time and memory that we trained on clusters. That will make `train_bg_word2vec` flag to 1 that will eventually force to train the word2vec for bengali datset. Initailly the flag is set to 0 to load the presampled bengali data and presampled bengali embedding. **Set the value of `train_bg_word2vec = 1` only and only if you want to train word2vec for Bengali dataset**"
      ]
    },
    {
      "cell_type": "code",
      "metadata": {
        "id": "kCET16qvsI3N"
      },
      "source": [
        "# keep it 0 if you don't want to train word2vec for bengali dataset once again that will take hours.\n",
        "train_bg_word2vec = 0"
      ],
      "execution_count": null,
      "outputs": []
    },
    {
      "cell_type": "markdown",
      "metadata": {
        "id": "t7e5vx4Rx7KG"
      },
      "source": [
        "#### Loading the already sampled Bengali dataset if train_bg_word2vec = 0 else sample again and you may need to train word2vec for Bengali dataeset if vocabulary size mismatch due to random sampling(though seed is used)"
      ]
    },
    {
      "cell_type": "code",
      "metadata": {
        "colab": {
          "base_uri": "https://localhost:8080/"
        },
        "id": "dWvVuICyx7wG",
        "outputId": "d9adac13-b79d-4379-d3e8-ae01c9d3f785"
      },
      "source": [
        "if train_bg_word2vec==0:\n",
        "  data = pd.read_csv('bengali_hatespeech_sampled.csv', usecols=['text', 'task_1'])\n",
        "  dev_bg = data\n",
        "  print(dev_bg.head())\n",
        "else:\n",
        "  df = pd.read_csv('bengali_hatespeech.csv', usecols=['sentence', 'hate'])\n",
        "  #split data classes\n",
        "  data_hate = df.iloc[:10000]\n",
        "  data_not = df.iloc[-20000:]\n",
        "  data_hate_sampled = data_hate.sample(n = 2500, random_state=1) \n",
        "  data_not_sampled = data_not.sample(n = 2200, random_state=1) \n",
        "  data_concat = pd.concat([data_hate_sampled, data_not_sampled], ignore_index=True)\n",
        "  dev = data_concat.sample(frac=1).reset_index(drop=True)\n",
        "  dev.columns=['text', 'task_1']\n",
        "  dev['task_1'] = dev['task_1'].replace([1],'HOF')\n",
        "  dev['task_1'] = dev['task_1'].replace([0],'NOT')\n",
        "  dev_bg = dev\n",
        "  dev.to_csv('bengali_hatespeech_sampled.csv')\n",
        "  print(dev_bg.head())"
      ],
      "execution_count": null,
      "outputs": [
        {
          "output_type": "stream",
          "text": [
            "                                                text task_1\n",
            "0  বিশ্বাস করেন ভাই এক হাজারের উপরে কমেন্টস দেখলা...    NOT\n",
            "1       ভাই এসব কথা ভালো না আপনে কি মানুষ না আর কিচো    NOT\n",
            "2  কাওয় কাদের মরলে কুততা যবে করে জানোয়ার দের খাওয়...    HOF\n",
            "3  এখনো সে ওই পদে বহাল কেনো আছে জাতি জানতে চাই আম...    NOT\n",
            "4                          এটা তো একটা ছাগলের বাচ্চা    HOF\n"
          ],
          "name": "stdout"
        }
      ]
    },
    {
      "cell_type": "markdown",
      "metadata": {
        "id": "j-2xMNnTxr6D"
      },
      "source": [
        "#### Preprocess the Bengali dataset. Here we remove the punctuations, stopwords and other non-influential words and symbols like 'http' and '@' from the beginning of a word and make word list candidates from the sentences. "
      ]
    },
    {
      "cell_type": "code",
      "metadata": {
        "colab": {
          "base_uri": "https://localhost:8080/"
        },
        "id": "ek-obO1Rx9XQ",
        "outputId": "60b854da-2f5a-44bb-e624-567d8f350e38"
      },
      "source": [
        "\n",
        "with open('stopwords-hi.txt', 'r') as f:\n",
        "  stopwords_hi = f.read().split()\n",
        "\n",
        "with open('stopwords-bn.txt', 'r') as f:\n",
        "  stopwords_bn = f.read().split()\n",
        "\n",
        "with open('stopwords-en.txt', 'r') as f:\n",
        "  stopwords = set(f.read().split() + stopwords_hi + stopwords_bn)\n",
        "\n",
        "punct = ':;?!-—-\\\"\\'|।()[]{},./\\\\“'\n",
        "dev_bg['text'] = dev_bg['text'].apply(lambda x: preprocess(x, punct, stopwords))\n",
        "dev_bg['text'][:5]"
      ],
      "execution_count": null,
      "outputs": [
        {
          "output_type": "execute_result",
          "data": {
            "text/plain": [
              "0    [বিশ্বাস, ভাই, হাজারের, কমেন্টস, দেখলাম, বিচার...\n",
              "1             [ভাই, এসব, কথা, ভালো, আপনে, মানুষ, কিচো]\n",
              "2    [কাওয়, কাদের, মরলে, কুততা, যবে, জানোয়ার, দের, ...\n",
              "3    [এখনো, পদে, বহাল, কেনো, জাতি, চাই, জামালপুরের,...\n",
              "4                               [একটা, ছাগলের, বাচ্চা]\n",
              "Name: text, dtype: object"
            ]
          },
          "metadata": {
            "tags": []
          },
          "execution_count": 114
        }
      ]
    },
    {
      "cell_type": "markdown",
      "metadata": {
        "id": "_jwh0-Dt0cke"
      },
      "source": [
        "#### Build the vocabulary avaialable in the dataset"
      ]
    },
    {
      "cell_type": "code",
      "metadata": {
        "colab": {
          "base_uri": "https://localhost:8080/"
        },
        "id": "T4iS8pr-0ckm",
        "outputId": "c0d28468-4f10-41ce-a576-bdaaa76c962b"
      },
      "source": [
        "bg_V = build_vocab(dev_bg)\n",
        "summ = sum(bg_V.values())\n",
        "len(bg_V)"
      ],
      "execution_count": null,
      "outputs": [
        {
          "output_type": "execute_result",
          "data": {
            "text/plain": [
              "14324"
            ]
          },
          "metadata": {
            "tags": []
          },
          "execution_count": 115
        }
      ]
    },
    {
      "cell_type": "markdown",
      "metadata": {
        "id": "S6vGO2bv-TMt"
      },
      "source": [
        "#### Developing a dictionary that represents the one hot encoding of the words in the vocabulary"
      ]
    },
    {
      "cell_type": "code",
      "metadata": {
        "id": "aOPQNd3T1a89"
      },
      "source": [
        "if train_bg_word2vec==0: #padding is 1 when we don't want to train word2vec but will load it later\n",
        "  pad = 1\n",
        "  onehot_dict_bg = build_onehot(bg_V, pad)\n",
        "else:\n",
        "  pad = 0\n",
        "  onehot_dict_bg = build_onehot(bg_V, pad)\n"
      ],
      "execution_count": null,
      "outputs": []
    },
    {
      "cell_type": "markdown",
      "metadata": {
        "id": "YEgbtIGzjeIC"
      },
      "source": [
        "#### Set hyperparameters for training word2vec model for Bengali dataset"
      ]
    },
    {
      "cell_type": "code",
      "metadata": {
        "id": "oCXKdlh61mol"
      },
      "source": [
        "# Set hyperparameters\n",
        "window_size = 5\n",
        "embedding_size = 300\n",
        "input_size = len(bg_V) # Onehot vector length\n",
        "batch_size = 50\n",
        "\n",
        "# More hyperparameters\n",
        "learning_rate = 0.05\n",
        "epochs = 100"
      ],
      "execution_count": null,
      "outputs": []
    },
    {
      "cell_type": "markdown",
      "metadata": {
        "id": "vldaDUt_kzjL"
      },
      "source": [
        "#### Create Bengali dataset instance for wor2vec and use collate function for batches"
      ]
    },
    {
      "cell_type": "code",
      "metadata": {
        "id": "Is0-eTrl2Ko1"
      },
      "source": [
        "dataset_bg = BengaliDataset(dev_bg['text'], window_size, bg_V, summ, onehot_dict_bg)\n",
        "dataloader = DataLoader(dataset_bg, collate_fn = my_collate, batch_size= batch_size, shuffle = False, num_workers=0)"
      ],
      "execution_count": null,
      "outputs": []
    },
    {
      "cell_type": "markdown",
      "metadata": {
        "id": "UeqWQepolVZi"
      },
      "source": [
        "#### Create word2vec model instance for Bengali if you want to train the model. "
      ]
    },
    {
      "cell_type": "code",
      "metadata": {
        "id": "XqOQxjAT2iSk"
      },
      "source": [
        "word2vec_bg_model = Word2Vec(input_size, embedding_size)\n",
        "if train_bg_word2vec==1:\n",
        "  print(word2vec_bg_model.fc1.weight.shape)\n",
        "  word2vec_bg_model.double()\n",
        "  nn.init.uniform_(word2vec_bg_model.fc1.weight)\n",
        "  nn.init.uniform_(word2vec_bg_model.fc2.weight)"
      ],
      "execution_count": null,
      "outputs": []
    },
    {
      "cell_type": "markdown",
      "metadata": {
        "id": "qEiQLp8Wl7ET"
      },
      "source": [
        "#### Define optimizer and loss for Word2Vec"
      ]
    },
    {
      "cell_type": "code",
      "metadata": {
        "id": "eQncTHEQ2oX1"
      },
      "source": [
        "# Define optimizer and loss\n",
        "optimizer = torch.optim.Adam(word2vec_bg_model.parameters(), lr = learning_rate)\n",
        "\n",
        "criterion = nn.CosineEmbeddingLoss()"
      ],
      "execution_count": null,
      "outputs": []
    },
    {
      "cell_type": "markdown",
      "metadata": {
        "id": "oflRqEkO3BVl"
      },
      "source": [
        "## Task 2c) Bengali Embedding  \n",
        "#### Run the below cell to train the word2vec model. It will take hours to completely train. If training word2vec for Bengali dataset is set to 1 then it will train otherwise, already trained model will be loaded "
      ]
    },
    {
      "cell_type": "code",
      "metadata": {
        "id": "yCnG2MZS2-Yd"
      },
      "source": [
        "if train_bg_word2vec==1: #For training\n",
        "  train(epochs, dataloader, word2vec_bg_model, criterion, optimizer)\n",
        "  print(\"Training finished\")\n",
        "  torch.save(model.state_dict(), 'Word2Vec-bg.model')\n",
        "\n",
        "else:           #for loading already trained word2vec model 'Word2Vec-bg.model' that should be available in the runtime\n",
        "  word2vec_bg_model = Word2Vec(input_size, embedding_size) \n",
        "  word2vec_bg_model.load_state_dict(torch.load('/content/Word2Vec-bg.model',  map_location='cpu'))\n",
        "  word2vec_bg_model.eval()\n",
        "  # Add a column to the first hidden layer matrix of the word2vec model for the padding embedding.\n",
        "  embeddings = torch.cat((word2vec_bg_model.fc1.weight.detach(), torch.zeros(embedding_size).unsqueeze(1)), dim = 1) # init the padding embedding by zeros\n",
        "  biases = word2vec_bg_model.fc1.bias.detach()\n"
      ],
      "execution_count": null,
      "outputs": []
    },
    {
      "cell_type": "markdown",
      "metadata": {
        "id": "K-5EoGDXPBgX"
      },
      "source": [
        "## Task 2d) Part-0: Build a Bengali sentiment classifier with Bengali embedding "
      ]
    },
    {
      "cell_type": "markdown",
      "metadata": {
        "id": "8jvZwjTY140x"
      },
      "source": [
        "#### One hot encoding with padding "
      ]
    },
    {
      "cell_type": "code",
      "metadata": {
        "colab": {
          "base_uri": "https://localhost:8080/"
        },
        "id": "KzwcLnGD3Ee0",
        "outputId": "c0bdbb82-0ebe-41b8-9b5f-6cb26df04635"
      },
      "source": [
        "pad = 1\n",
        "onehot_dict_bg = build_onehot(bg_V, pad)\n",
        "print(onehot_dict_bg[' '])"
      ],
      "execution_count": null,
      "outputs": [
        {
          "output_type": "stream",
          "text": [
            "[0. 0. 0. ... 0. 0. 1.]\n"
          ],
          "name": "stdout"
        }
      ]
    },
    {
      "cell_type": "markdown",
      "metadata": {
        "id": "Mr3entfI2Syl"
      },
      "source": [
        "#### Getting the insigths of the sentences in sense of the number of words in a sentence for bengali Dataset"
      ]
    },
    {
      "cell_type": "code",
      "metadata": {
        "colab": {
          "base_uri": "https://localhost:8080/",
          "height": 428
        },
        "id": "RAug556f3QM0",
        "outputId": "bafa9f40-e418-428d-ebb7-2e9815a5c2db"
      },
      "source": [
        "text_len = [len(x) for x in dev_bg['text']]\n",
        "ax = pd.Series(text_len).hist()\n",
        "fig = ax.get_figure()\n",
        "fig.savefig('Bengali_dataset_histogram.png')\n",
        "pd.Series(text_len).describe()"
      ],
      "execution_count": null,
      "outputs": [
        {
          "output_type": "execute_result",
          "data": {
            "text/plain": [
              "count    4700.000000\n",
              "mean        9.754043\n",
              "std        14.246602\n",
              "min         0.000000\n",
              "25%         4.000000\n",
              "50%         6.000000\n",
              "75%        11.000000\n",
              "max       328.000000\n",
              "dtype: float64"
            ]
          },
          "metadata": {
            "tags": []
          },
          "execution_count": 123
        },
        {
          "output_type": "display_data",
          "data": {
            "image/png": "[encoded data removed]",
            "text/plain": [
              "<Figure size 432x288 with 1 Axes>"
            ]
          },
          "metadata": {
            "tags": [],
            "needs_background": "light"
          }
        }
      ]
    },
    {
      "cell_type": "markdown",
      "metadata": {
        "id": "k4HakIe9gPCE"
      },
      "source": [
        "#### From the Histogram above we see that 75% of the sentences are covered with 11 being the size of the words in sentences. We select 20 as the maximum number of words in a sentence considering factor like outliers for Bengali dataset."
      ]
    },
    {
      "cell_type": "markdown",
      "metadata": {
        "id": "jFbL1pNR6Y9c"
      },
      "source": [
        "#### Set hyperparameters for sentiment analysis on bengali data using already trained hindi model"
      ]
    },
    {
      "cell_type": "code",
      "metadata": {
        "id": "-uh1lW763R7M"
      },
      "source": [
        "# Set hyperparameters\n",
        "batch_size = 64\n",
        "min_sen_length = 20\n",
        "embedding_size = 300\n",
        "input_size = len(bg_V)\n",
        "output_dim = 1\n",
        "dropout = 0.5\n",
        "n_filters = 35\n",
        "filter_sizes = [8,5,3]"
      ],
      "execution_count": null,
      "outputs": []
    },
    {
      "cell_type": "markdown",
      "metadata": {
        "id": "aRJJyFfd6Jpf"
      },
      "source": [
        "#### We create a custom Bengali dataset and data loader to train the binary classifier"
      ]
    },
    {
      "cell_type": "code",
      "metadata": {
        "id": "uj723YID3Y8M"
      },
      "source": [
        "dataset_bg = MyDataset(dev_bg, min_sen_length, onehot_dict_bg)"
      ],
      "execution_count": null,
      "outputs": []
    },
    {
      "cell_type": "code",
      "metadata": {
        "colab": {
          "base_uri": "https://localhost:8080/"
        },
        "id": "d2psC3px3aps",
        "outputId": "bdfd1ca8-49ee-492e-b72c-37322acf01e0"
      },
      "source": [
        "train_size, val_size, test_size = int(0.7 * len(dataset_bg)), int(0.15 * len(dataset_bg)), int(0.15 * len(dataset_bg))\n",
        "train_dataset, val_dataset, test_dataset = torch.utils.data.random_split(dataset_bg, [train_size, val_size, test_size])\n",
        "trainloader = DataLoader(train_dataset, batch_size= batch_size, shuffle = False, num_workers=0)\n",
        "valloader = DataLoader(val_dataset, batch_size= batch_size, shuffle = False, num_workers=0)\n",
        "testloader = DataLoader(test_dataset, batch_size= batch_size, shuffle = False, num_workers=0)\n",
        "i1, l1 = next(iter(valloader))\n",
        "print(i1.shape)"
      ],
      "execution_count": null,
      "outputs": [
        {
          "output_type": "stream",
          "text": [
            "torch.Size([64, 20, 14325])\n"
          ],
          "name": "stdout"
        }
      ]
    },
    {
      "cell_type": "code",
      "metadata": {
        "colab": {
          "base_uri": "https://localhost:8080/"
        },
        "id": "FAp3jMui3npt",
        "outputId": "6c212fe3-3905-4038-b4b5-005b6e1493b0"
      },
      "source": [
        "embeddings.shape"
      ],
      "execution_count": null,
      "outputs": [
        {
          "output_type": "execute_result",
          "data": {
            "text/plain": [
              "torch.Size([300, 14325])"
            ]
          },
          "metadata": {
            "tags": []
          },
          "execution_count": 127
        }
      ]
    },
    {
      "cell_type": "markdown",
      "metadata": {
        "id": "xlXnd_ryRxzI"
      },
      "source": [
        "#### Create CNN model instance by importing CNN_BENGALI defined in task2_utils file."
      ]
    },
    {
      "cell_type": "code",
      "metadata": {
        "colab": {
          "base_uri": "https://localhost:8080/"
        },
        "id": "jWEYvJbRRpk2",
        "outputId": "cbb6d944-b9ce-425e-9a02-ffa2ed1854f3"
      },
      "source": [
        "cnn_bengali_bg = CNN_BENGALI(input_size, embedding_size, n_filters, filter_sizes, output_dim, dropout)\n",
        "cnn_bengali_bg.double()"
      ],
      "execution_count": null,
      "outputs": [
        {
          "output_type": "execute_result",
          "data": {
            "text/plain": [
              "CNN_BENGALI(\n",
              "  (embedding): Linear(in_features=14325, out_features=300, bias=True)\n",
              "  (conv_0): Conv2d(1, 35, kernel_size=(8, 300), stride=(1, 1))\n",
              "  (conv_1): Conv2d(1, 35, kernel_size=(5, 300), stride=(1, 1))\n",
              "  (conv_2): Conv2d(1, 35, kernel_size=(3, 300), stride=(1, 1))\n",
              "  (fc): Linear(in_features=105, out_features=1, bias=True)\n",
              "  (dropout): Dropout(p=0.5, inplace=False)\n",
              ")"
            ]
          },
          "metadata": {
            "tags": []
          },
          "execution_count": 128
        }
      ]
    },
    {
      "cell_type": "markdown",
      "metadata": {
        "id": "3ekmITJlR9cv"
      },
      "source": [
        "#### Copying the biases and embeddings of Bengali word2vec model "
      ]
    },
    {
      "cell_type": "code",
      "metadata": {
        "colab": {
          "base_uri": "https://localhost:8080/"
        },
        "id": "zkJjCxTqR9cw",
        "outputId": "73875ff0-0296-49a8-f05f-c33a1e64d0f5"
      },
      "source": [
        "cnn_bengali_bg.embedding.bias.data.copy_(biases)\n",
        "cnn_bengali_bg.embedding.weight.data.copy_(embeddings)"
      ],
      "execution_count": null,
      "outputs": [
        {
          "output_type": "execute_result",
          "data": {
            "text/plain": [
              "tensor([[-3.6804, -3.9742,  7.5049,  ...,  1.5165, -0.9174,  0.0000],\n",
              "        [-4.4186, -4.3429,  7.0625,  ..., -0.3113,  0.1828,  0.0000],\n",
              "        [ 2.6100, -3.6530,  1.7071,  ..., -0.4530,  3.2981,  0.0000],\n",
              "        ...,\n",
              "        [-4.0302, -3.5355, -2.8756,  ...,  4.6784, -3.8939,  0.0000],\n",
              "        [-2.5204, -3.0166,  3.7221,  ..., -2.4455,  0.2383,  0.0000],\n",
              "        [-4.0695,  3.5275,  3.5986,  ..., -2.3224, -2.2882,  0.0000]],\n",
              "       dtype=torch.float64)"
            ]
          },
          "metadata": {
            "tags": []
          },
          "execution_count": 129
        }
      ]
    },
    {
      "cell_type": "markdown",
      "metadata": {
        "id": "kxcr6FKYSaX3"
      },
      "source": [
        "#### Define optimizer and criterion for sentiment analysis training"
      ]
    },
    {
      "cell_type": "code",
      "metadata": {
        "id": "vnsncUeGSaX4"
      },
      "source": [
        "optimizer = optim.Adam(cnn_bengali_bg.parameters())\n",
        "\n",
        "criterion = nn.BCEWithLogitsLoss()"
      ],
      "execution_count": null,
      "outputs": []
    },
    {
      "cell_type": "markdown",
      "metadata": {
        "id": "eQUlFLlTSzDv"
      },
      "source": [
        "#### Train CNN on Bengali data with Bengali Embedding "
      ]
    },
    {
      "cell_type": "code",
      "metadata": {
        "colab": {
          "base_uri": "https://localhost:8080/"
        },
        "id": "Po09-TqySzDw",
        "outputId": "6bf5f006-04f4-498f-8e9a-81dc7e80c8ce"
      },
      "source": [
        "N_EPOCHS = 50\n",
        "best_valid_loss = float('inf') #Initially sets to infinity\n",
        "cnn_bengali_bg.train()\n",
        "\n",
        "# Keeping loss and accuracy history of epochs for visualiztion\n",
        "train_loss_history = []\n",
        "train_acc_history = []\n",
        "val_loss_history = []\n",
        "val_acc_history = []\n",
        "\n",
        "# Counter for Early stopping. Stops if no better loss for validation is achieved in 4 consecutive epochs.\n",
        "stop_criterion = 0\n",
        "\n",
        "for epoch in range(N_EPOCHS):\n",
        "    #start time of the epoch\n",
        "    start_time = time.time()\n",
        "    \n",
        "    train_loss, train_acc = train_cnn(cnn_bengali_bg, trainloader, optimizer, criterion)\n",
        "    valid_loss, valid_acc = evaluate_cnn(cnn_bengali_bg, valloader, criterion)\n",
        "    train_loss_history.append(train_loss)\n",
        "    train_acc_history.append(train_acc)\n",
        "    val_loss_history.append(valid_loss)\n",
        "    val_acc_history.append(valid_acc)\n",
        "\n",
        "    #End time\n",
        "    end_time = time.time()\n",
        "    # calculate elapsed time in mins and seconds\n",
        "    required_time = end_time - start_time\n",
        "    mins = int(required_time / 60)\n",
        "    secs = int(required_time - (mins * 60))\n",
        "    \n",
        "    stop_criterion += 1\n",
        "\n",
        "    #Saving the best model\n",
        "    if valid_loss < best_valid_loss:\n",
        "        best_valid_loss = valid_loss\n",
        "        torch.save(cnn_bengali_bg.state_dict(), 'cnn_bengali_bg_model.pt')\n",
        "        best_model_bengali_bg = copy.deepcopy(cnn_bengali_bg)\n",
        "        stop_criterion = 0\n",
        "    \n",
        "    print(f'Epoch: {epoch+1:02} | Epoch Time: {mins}m {secs}s')\n",
        "    print(f'\\tTrain Loss: {train_loss:.3f} | Train Acc: {train_acc*100:.2f}%')\n",
        "    print(f'\\t Val. Loss: {valid_loss:.3f} |  Val. Acc: {valid_acc*100:.2f}%')\n",
        "\n",
        "    if stop_criterion == 4:\n",
        "      break"
      ],
      "execution_count": null,
      "outputs": [
        {
          "output_type": "stream",
          "text": [
            "Epoch: 01 | Epoch Time: 0m 45s\n",
            "\tTrain Loss: 0.724 | Train Acc: 65.23%\n",
            "\t Val. Loss: 0.559 |  Val. Acc: 77.47%\n",
            "Epoch: 02 | Epoch Time: 0m 44s\n",
            "\tTrain Loss: 0.486 | Train Acc: 78.46%\n",
            "\t Val. Loss: 0.520 |  Val. Acc: 79.04%\n",
            "Epoch: 03 | Epoch Time: 0m 45s\n",
            "\tTrain Loss: 0.435 | Train Acc: 80.34%\n",
            "\t Val. Loss: 0.477 |  Val. Acc: 80.08%\n",
            "Epoch: 04 | Epoch Time: 0m 44s\n",
            "\tTrain Loss: 0.395 | Train Acc: 82.59%\n",
            "\t Val. Loss: 0.488 |  Val. Acc: 80.73%\n",
            "Epoch: 05 | Epoch Time: 0m 44s\n",
            "\tTrain Loss: 0.363 | Train Acc: 84.41%\n",
            "\t Val. Loss: 0.514 |  Val. Acc: 71.88%\n",
            "Epoch: 06 | Epoch Time: 0m 44s\n",
            "\tTrain Loss: 0.340 | Train Acc: 85.38%\n",
            "\t Val. Loss: 0.525 |  Val. Acc: 72.53%\n",
            "Epoch: 07 | Epoch Time: 0m 44s\n",
            "\tTrain Loss: 0.305 | Train Acc: 87.11%\n",
            "\t Val. Loss: 0.519 |  Val. Acc: 73.18%\n"
          ],
          "name": "stdout"
        }
      ]
    },
    {
      "cell_type": "markdown",
      "metadata": {
        "id": "HDCddtElTZt-"
      },
      "source": [
        "#### Visualize Loss and Accuracy for the sentiment classification model on Bengali data with Bengali embedding"
      ]
    },
    {
      "cell_type": "code",
      "metadata": {
        "colab": {
          "base_uri": "https://localhost:8080/",
          "height": 316
        },
        "id": "6EQub1lHTZt-",
        "outputId": "6db9a2f6-497c-4787-c7a6-5a6b16e9fe40"
      },
      "source": [
        "epoch_count = list(range(1, len(train_loss_history)+1))\n",
        "x1 = epoch_count\n",
        "x2 = epoch_count\n",
        "y1_train = train_loss_history\n",
        "y1_val = val_loss_history\n",
        "y2_train = train_acc_history\n",
        "y2_val = val_acc_history\n",
        "\n",
        "fig, axes = plt.subplots(nrows=1, ncols=2, figsize=(12,4))\n",
        "axes[0].plot(x1, y1_train, 'r--')\n",
        "axes[0].plot(x1, y1_val, 'b--')\n",
        "axes[0].legend(['Training Loss', 'Validation Loss'])\n",
        "axes[0].set(xlabel='Epoch', ylabel='Loss')\n",
        "axes[0].set_title('Bengali CNN loss with Bengali data')\n",
        "axes[1].plot(x1, y2_train, 'r--')\n",
        "axes[1].plot(x1, y2_val, 'b--')\n",
        "axes[1].legend(['Training Accuracy', 'Validation Accuracy'])\n",
        "axes[1].set(xlabel='Epoch', ylabel='Accuracy')\n",
        "axes[1].set_title('Bengali CNN accuracy with Bengali data')\n",
        "fig.suptitle('Bengali sentiment classifier loss and accuracy', y=-0.01)\n",
        "plt.savefig('bengali_cnn_with_bengali_data.png')"
      ],
      "execution_count": null,
      "outputs": [
        {
          "output_type": "display_data",
          "data": {
            "image/png": "[encoded data removed]",
            "text/plain": [
              "<Figure size 864x288 with 2 Axes>"
            ]
          },
          "metadata": {
            "tags": [],
            "needs_background": "light"
          }
        }
      ]
    },
    {
      "cell_type": "markdown",
      "metadata": {
        "id": "4qeo0FChUBhm"
      },
      "source": [
        "#### Evaluation on bengali test dataset of Bengali sentiment classifier"
      ]
    },
    {
      "cell_type": "code",
      "metadata": {
        "colab": {
          "base_uri": "https://localhost:8080/"
        },
        "id": "yrXEHlmqUBhm",
        "outputId": "47696d47-e79c-4388-b199-e8fd21905870"
      },
      "source": [
        "best_model_bengali_bg.eval()\n",
        "test_acc_on_bengali_test_data, precision, recall, f1_score = evaluate_sentiment_classifier(best_model_bengali_bg, testloader)\n",
        "print(f'Binary sentiment classification for Bengali test dataset with Bengali model: {test_acc_on_bengali_test_data*100:.2f}%')\n",
        "print(f'Precision for Bengali test dataset: {precision*100:.2f}%')\n",
        "print(f'Recall for Bengali test dataset: {recall*100:.2f}%')\n",
        "print(f'F1 score for Bengali test dataset: {f1_score*100:.2f}%')"
      ],
      "execution_count": null,
      "outputs": [
        {
          "output_type": "stream",
          "text": [
            "Binary sentiment classification for Bengali test dataset with Bengali model: 80.99%\n",
            "Precision for Bengali test dataset: 82.21%\n",
            "Recall for Bengali test dataset: 75.28%\n",
            "F1 score for Bengali test dataset: 78.59%\n"
          ],
          "name": "stdout"
        }
      ]
    },
    {
      "cell_type": "markdown",
      "metadata": {
        "id": "TV-DpcLmRa_f"
      },
      "source": [
        "## Task 2d) Part-1: Apply the classifier(Hindi Sentiment classifier) to Bengali data(Bengali Embedding that is completely unseen to the Hindi sentiment classifier). "
      ]
    },
    {
      "cell_type": "markdown",
      "metadata": {
        "id": "79ucOf4DJJkl"
      },
      "source": [
        "#### Create CNN model instance by importing CNN_BENGALI defined in task2_utils file."
      ]
    },
    {
      "cell_type": "code",
      "metadata": {
        "colab": {
          "base_uri": "https://localhost:8080/"
        },
        "id": "5qzpVHqjJ3Gf",
        "outputId": "8f33fc1f-1349-4611-88a9-ac1d199d3da9"
      },
      "source": [
        "cnn_bengali_hi = CNN_BENGALI(input_size, embedding_size, n_filters, filter_sizes, output_dim, dropout)\n",
        "cnn_bengali_hi.double()"
      ],
      "execution_count": null,
      "outputs": [
        {
          "output_type": "execute_result",
          "data": {
            "text/plain": [
              "CNN_BENGALI(\n",
              "  (embedding): Linear(in_features=14325, out_features=300, bias=True)\n",
              "  (conv_0): Conv2d(1, 35, kernel_size=(8, 300), stride=(1, 1))\n",
              "  (conv_1): Conv2d(1, 35, kernel_size=(5, 300), stride=(1, 1))\n",
              "  (conv_2): Conv2d(1, 35, kernel_size=(3, 300), stride=(1, 1))\n",
              "  (fc): Linear(in_features=105, out_features=1, bias=True)\n",
              "  (dropout): Dropout(p=0.5, inplace=False)\n",
              ")"
            ]
          },
          "metadata": {
            "tags": []
          },
          "execution_count": 134
        }
      ]
    },
    {
      "cell_type": "markdown",
      "metadata": {
        "id": "GUBjypOR7Qlx"
      },
      "source": [
        "#### Copying the biases and embeddings of Bengali word2vec model "
      ]
    },
    {
      "cell_type": "code",
      "metadata": {
        "colab": {
          "base_uri": "https://localhost:8080/"
        },
        "id": "PzvkGE5lKQmr",
        "outputId": "dae31e37-1c48-4c84-9dca-6ad38aeb8801"
      },
      "source": [
        "cnn_bengali_hi.embedding.bias.data.copy_(biases)\n",
        "cnn_bengali_hi.embedding.weight.data.copy_(embeddings)"
      ],
      "execution_count": null,
      "outputs": [
        {
          "output_type": "execute_result",
          "data": {
            "text/plain": [
              "tensor([[-3.6804, -3.9742,  7.5049,  ...,  1.5165, -0.9174,  0.0000],\n",
              "        [-4.4186, -4.3429,  7.0625,  ..., -0.3113,  0.1828,  0.0000],\n",
              "        [ 2.6100, -3.6530,  1.7071,  ..., -0.4530,  3.2981,  0.0000],\n",
              "        ...,\n",
              "        [-4.0302, -3.5355, -2.8756,  ...,  4.6784, -3.8939,  0.0000],\n",
              "        [-2.5204, -3.0166,  3.7221,  ..., -2.4455,  0.2383,  0.0000],\n",
              "        [-4.0695,  3.5275,  3.5986,  ..., -2.3224, -2.2882,  0.0000]],\n",
              "       dtype=torch.float64)"
            ]
          },
          "metadata": {
            "tags": []
          },
          "execution_count": 135
        }
      ]
    },
    {
      "cell_type": "markdown",
      "metadata": {
        "id": "79GlWKvQ7byc"
      },
      "source": [
        "#### Copying the weights and biases from **HINDI** CNN model that is already trained for creating Bengali CNN model. That means `cnn_bengali_hi` model has Bengali word2vec as embedding layer and all other layers are from the Hindi CNN model. "
      ]
    },
    {
      "cell_type": "code",
      "metadata": {
        "colab": {
          "base_uri": "https://localhost:8080/"
        },
        "id": "9rYFzGrfKXLL",
        "outputId": "19bfd4ab-c533-4f76-fc42-692f2ec4daae"
      },
      "source": [
        "cnn_bengali_hi.conv_0.bias.data.copy_(best_model_hindi.conv_0.bias)\n",
        "cnn_bengali_hi.conv_0.weight.data.copy_(best_model_hindi.conv_0.weight)\n",
        "cnn_bengali_hi.conv_1.bias.data.copy_(best_model_hindi.conv_1.bias)\n",
        "cnn_bengali_hi.conv_1.weight.data.copy_(best_model_hindi.conv_1.weight)\n",
        "cnn_bengali_hi.conv_2.bias.data.copy_(best_model_hindi.conv_2.bias)\n",
        "cnn_bengali_hi.conv_2.weight.data.copy_(best_model_hindi.conv_2.weight)\n",
        "cnn_bengali_hi.fc.bias.data.copy_(best_model_hindi.fc.bias)\n",
        "cnn_bengali_hi.fc.weight.data.copy_(best_model_hindi.fc.weight)"
      ],
      "execution_count": null,
      "outputs": [
        {
          "output_type": "execute_result",
          "data": {
            "text/plain": [
              "tensor([[-8.5778e-02, -1.0569e-03, -5.9031e-02,  6.9597e-05,  6.3098e-02,\n",
              "          9.1071e-03,  1.8070e-02,  6.1761e-02,  8.2367e-02, -1.7244e-02,\n",
              "          1.5144e-02,  3.3054e-02, -6.6893e-02,  8.5354e-02,  5.9054e-02,\n",
              "          1.9049e-02,  1.5450e-02,  5.8245e-02, -4.0002e-02,  6.4589e-02,\n",
              "         -5.7822e-02, -1.4006e-02, -6.4809e-02, -4.9366e-02, -2.3502e-02,\n",
              "         -7.4562e-02, -2.7233e-02, -3.0685e-02, -4.2813e-02,  1.5478e-02,\n",
              "         -1.2585e-02,  2.2166e-02, -3.7221e-02, -8.8915e-03,  9.1954e-03,\n",
              "         -5.7159e-02,  4.9921e-02,  3.7017e-02, -8.2272e-02,  2.7340e-03,\n",
              "          7.7728e-02, -8.1820e-02, -2.9592e-02,  6.0386e-03,  3.0677e-03,\n",
              "         -7.3146e-02,  3.7356e-02,  1.7476e-02,  6.5368e-02,  8.6268e-02,\n",
              "          2.0662e-03,  8.4247e-02,  6.8383e-02,  4.6557e-02,  3.7563e-02,\n",
              "          9.1041e-03, -2.4263e-02, -2.3387e-03,  2.2272e-02,  3.3217e-04,\n",
              "          3.9064e-02,  8.4367e-02, -2.7172e-02,  4.3634e-02,  3.3491e-03,\n",
              "         -5.9635e-03, -3.2688e-02,  5.8963e-02, -4.7807e-02, -4.5090e-03,\n",
              "          5.3333e-03, -3.3803e-02, -9.3269e-02,  5.0649e-02,  4.6286e-02,\n",
              "          1.4363e-02,  3.4068e-02, -7.7282e-02, -3.3476e-02,  2.5730e-02,\n",
              "          4.4487e-03,  6.7012e-02,  8.0646e-02, -4.3080e-02, -4.4476e-02,\n",
              "          8.6692e-04,  5.5505e-02, -9.2780e-02,  3.5776e-02,  1.5693e-02,\n",
              "          7.2370e-02,  6.9406e-02, -2.9047e-02,  2.9757e-02, -5.1579e-02,\n",
              "         -6.5747e-03,  8.4420e-02, -4.0744e-02, -2.0620e-02, -5.2844e-02,\n",
              "          6.0054e-02, -7.2114e-02,  2.5046e-04, -2.1290e-02,  2.6797e-02]],\n",
              "       dtype=torch.float64, grad_fn=<CopyBackwards>)"
            ]
          },
          "metadata": {
            "tags": []
          },
          "execution_count": 136
        }
      ]
    },
    {
      "cell_type": "markdown",
      "metadata": {
        "id": "DGC32fQGXtH3"
      },
      "source": [
        "#### Evaluation of Sentiment classifier while Bengali embedding is used on Bengali test data while using Hindi model's weights in other layers except embedding"
      ]
    },
    {
      "cell_type": "code",
      "metadata": {
        "colab": {
          "base_uri": "https://localhost:8080/"
        },
        "id": "5bbhrqHePtuS",
        "outputId": "9c158f3c-7cf3-43ef-9ffd-f982caa664b5"
      },
      "source": [
        "cnn_bengali_hi.eval()\n",
        "acc_of_senti_model_on_bengali_test_data_without_retrain, precision, recall, f1_score = evaluate_sentiment_classifier(cnn_bengali_hi, testloader)\n",
        "print(f'Binary sentiment classification for Bengali test dataset before retraining with Bengali Data: {acc_of_senti_model_on_bengali_test_data_without_retrain*100:.2f}%')\n",
        "print(f'Precision for Bengali test dataset before retraining: {precision*100:.2f}%')\n",
        "print(f'Recall for Bengali test dataset before retraining: {recall*100:.2f}%')\n",
        "print(f'F1 score for Bengali test dataset before retraining: {f1_score*100:.2f}%')"
      ],
      "execution_count": null,
      "outputs": [
        {
          "output_type": "stream",
          "text": [
            "Binary sentiment classification for Bengali test dataset before retraining with Bengali Data: 46.74%\n",
            "Precision for Bengali test dataset before retraining: 50.72%\n",
            "Recall for Bengali test dataset before retraining: 99.16%\n",
            "F1 score for Bengali test dataset before retraining: 67.11%\n"
          ],
          "name": "stdout"
        }
      ]
    },
    {
      "cell_type": "markdown",
      "metadata": {
        "id": "553JntRnfotP"
      },
      "source": [
        "## Task 2d) Part-2: Retrain model with Bengali data"
      ]
    },
    {
      "cell_type": "markdown",
      "metadata": {
        "id": "BX-LPpDw8nAt"
      },
      "source": [
        "#### Define optimizer and criterion for sentiment analysis retraining"
      ]
    },
    {
      "cell_type": "code",
      "metadata": {
        "id": "V9ZGbqfClvkJ"
      },
      "source": [
        "optimizer = optim.Adam(cnn_bengali_hi.parameters())\n",
        "\n",
        "criterion = nn.BCEWithLogitsLoss()"
      ],
      "execution_count": null,
      "outputs": []
    },
    {
      "cell_type": "markdown",
      "metadata": {
        "id": "4eBM0vCGhUvh"
      },
      "source": [
        "#### Retrain CNN on Bengali data "
      ]
    },
    {
      "cell_type": "code",
      "metadata": {
        "id": "bMntW_24QJBa",
        "colab": {
          "base_uri": "https://localhost:8080/"
        },
        "outputId": "7d7e9678-3581-41d5-ccc1-8e3df2234260"
      },
      "source": [
        "N_EPOCHS = 50\n",
        "best_valid_loss = float('inf') #Initially sets to infinity\n",
        "cnn_bengali_hi.train()\n",
        "\n",
        "# Keeping loss and accuracy history of epochs for visualiztion\n",
        "train_loss_history = []\n",
        "train_acc_history = []\n",
        "val_loss_history = []\n",
        "val_acc_history = []\n",
        "\n",
        "# Counter for Early stopping. Stops if no better loss for validation is achieved in 4 consecutive epochs.\n",
        "stop_criterion = 0\n",
        "\n",
        "for epoch in range(N_EPOCHS):\n",
        "    #start time of the epoch\n",
        "    start_time = time.time()\n",
        "    \n",
        "    train_loss, train_acc = train_cnn(cnn_bengali_hi, trainloader, optimizer, criterion)\n",
        "    valid_loss, valid_acc = evaluate_cnn(cnn_bengali_hi, valloader, criterion)\n",
        "    train_loss_history.append(train_loss)\n",
        "    train_acc_history.append(train_acc)\n",
        "    val_loss_history.append(valid_loss)\n",
        "    val_acc_history.append(valid_acc)\n",
        "\n",
        "    #End time\n",
        "    end_time = time.time()\n",
        "    # calculate elapsed time in mins and seconds\n",
        "    required_time = end_time - start_time\n",
        "    mins = int(required_time / 60)\n",
        "    secs = int(required_time - (mins * 60))\n",
        "    \n",
        "    stop_criterion += 1\n",
        "\n",
        "    #Saving the best model\n",
        "    if valid_loss < best_valid_loss:\n",
        "        best_valid_loss = valid_loss\n",
        "        torch.save(cnn_bengali_hi.state_dict(), 'cnn_bengali_retrained_model.pt')\n",
        "        best_model_bengali_retrained = copy.deepcopy(cnn_bengali_hi)\n",
        "        stop_criterion = 0\n",
        "    \n",
        "    print(f'Epoch: {epoch+1:02} | Epoch Time: {mins}m {secs}s')\n",
        "    print(f'\\tTrain Loss: {train_loss:.3f} | Train Acc: {train_acc*100:.2f}%')\n",
        "    print(f'\\t Val. Loss: {valid_loss:.3f} |  Val. Acc: {valid_acc*100:.2f}%')\n",
        "\n",
        "    if stop_criterion == 4:\n",
        "      break"
      ],
      "execution_count": null,
      "outputs": [
        {
          "output_type": "stream",
          "text": [
            "Epoch: 01 | Epoch Time: 0m 45s\n",
            "\tTrain Loss: 1.025 | Train Acc: 63.60%\n",
            "\t Val. Loss: 0.590 |  Val. Acc: 64.32%\n",
            "Epoch: 02 | Epoch Time: 0m 45s\n",
            "\tTrain Loss: 0.497 | Train Acc: 77.12%\n",
            "\t Val. Loss: 0.514 |  Val. Acc: 79.17%\n",
            "Epoch: 03 | Epoch Time: 0m 45s\n",
            "\tTrain Loss: 0.433 | Train Acc: 80.70%\n",
            "\t Val. Loss: 0.516 |  Val. Acc: 71.35%\n",
            "Epoch: 04 | Epoch Time: 0m 45s\n",
            "\tTrain Loss: 0.393 | Train Acc: 83.34%\n",
            "\t Val. Loss: 0.517 |  Val. Acc: 72.53%\n",
            "Epoch: 05 | Epoch Time: 0m 45s\n",
            "\tTrain Loss: 0.366 | Train Acc: 84.09%\n",
            "\t Val. Loss: 0.493 |  Val. Acc: 80.99%\n",
            "Epoch: 06 | Epoch Time: 0m 45s\n",
            "\tTrain Loss: 0.318 | Train Acc: 86.99%\n",
            "\t Val. Loss: 0.514 |  Val. Acc: 72.66%\n",
            "Epoch: 07 | Epoch Time: 0m 45s\n",
            "\tTrain Loss: 0.299 | Train Acc: 87.86%\n",
            "\t Val. Loss: 0.506 |  Val. Acc: 71.74%\n",
            "Epoch: 08 | Epoch Time: 0m 45s\n",
            "\tTrain Loss: 0.263 | Train Acc: 89.22%\n",
            "\t Val. Loss: 0.517 |  Val. Acc: 79.82%\n",
            "Epoch: 09 | Epoch Time: 0m 45s\n",
            "\tTrain Loss: 0.248 | Train Acc: 90.04%\n",
            "\t Val. Loss: 0.525 |  Val. Acc: 72.79%\n"
          ],
          "name": "stdout"
        }
      ]
    },
    {
      "cell_type": "markdown",
      "metadata": {
        "id": "KnHMWcaVH9qe"
      },
      "source": [
        "#### Visualize Loss and Accuracy for the model with Bengali dataset after retraining"
      ]
    },
    {
      "cell_type": "code",
      "metadata": {
        "id": "LVbKKZBMh-2p",
        "colab": {
          "base_uri": "https://localhost:8080/",
          "height": 316
        },
        "outputId": "99c5101c-287b-47cd-8134-304849bb6331"
      },
      "source": [
        "epoch_count = list(range(1, len(train_loss_history)+1))\n",
        "x1 = epoch_count\n",
        "x2 = epoch_count\n",
        "y1_train = train_loss_history\n",
        "y1_val = val_loss_history\n",
        "y2_train = train_acc_history\n",
        "y2_val = val_acc_history\n",
        "\n",
        "fig, axes = plt.subplots(nrows=1, ncols=2, figsize=(12,4))\n",
        "axes[0].plot(x1, y1_train, 'r--')\n",
        "axes[0].plot(x1, y1_val, 'b--')\n",
        "axes[0].legend(['Training Loss', 'Validation Loss'])\n",
        "axes[0].set(xlabel='Epoch', ylabel='Loss')\n",
        "axes[0].set_title('Bengali CNN loss retrained with Bengali data')\n",
        "axes[1].plot(x1, y2_train, 'r--')\n",
        "axes[1].plot(x1, y2_val, 'b--')\n",
        "axes[1].legend(['Training Accuracy', 'Validation Accuracy'])\n",
        "axes[1].set(xlabel='Epoch', ylabel='Accuracy')\n",
        "axes[1].set_title('Bengali CNN accuracy retrained with Bengali data')\n",
        "fig.suptitle('Sentiment classifier loss and accuracy after retraining with Bengali data', y=-0.01)\n",
        "plt.savefig('bengali_cnn_after_retrained.png')"
      ],
      "execution_count": null,
      "outputs": [
        {
          "output_type": "display_data",
          "data": {
            "image/png": "[encoded data removed]",
            "text/plain": [
              "<Figure size 864x288 with 2 Axes>"
            ]
          },
          "metadata": {
            "tags": [],
            "needs_background": "light"
          }
        }
      ]
    },
    {
      "cell_type": "markdown",
      "metadata": {
        "id": "crhmKqKnws0t"
      },
      "source": [
        "#### Evaluation on bengali test dataset of Sentiment classifier after retraining with bengali Embedding"
      ]
    },
    {
      "cell_type": "code",
      "metadata": {
        "id": "m65ARtQEoko-",
        "colab": {
          "base_uri": "https://localhost:8080/"
        },
        "outputId": "2178cc43-bfb0-4584-a4ac-e311a8920cc3"
      },
      "source": [
        "best_model_bengali_retrained.eval()\n",
        "test_acc_on_bengali_test_data_retrained, precision, recall, f1_score = evaluate_sentiment_classifier(best_model_bengali_retrained, testloader)\n",
        "print(f'Binary sentiment classification for Bengali test dataset after retraining: {test_acc_on_bengali_test_data_retrained*100:.2f}%')\n",
        "print(f'Precision for Bengali test dataset after retraining: {precision*100:.2f}%')\n",
        "print(f'Recall for Bengali test dataset after retraining: {recall*100:.2f}%')\n",
        "print(f'F1 score for Bengali test dataset after retraining: {f1_score*100:.2f}%')"
      ],
      "execution_count": null,
      "outputs": [
        {
          "output_type": "stream",
          "text": [
            "Binary sentiment classification for Bengali test dataset after retraining: 81.77%\n",
            "Precision for Bengali test dataset after retraining: 82.53%\n",
            "Recall for Bengali test dataset after retraining: 76.97%\n",
            "F1 score for Bengali test dataset after retraining: 79.65%\n"
          ],
          "name": "stdout"
        }
      ]
    }
  ]
}